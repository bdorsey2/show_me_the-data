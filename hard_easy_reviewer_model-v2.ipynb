{
 "cells": [
  {
   "cell_type": "code",
   "execution_count": 1,
   "metadata": {
    "ExecuteTime": {
     "end_time": "2018-12-03T09:05:45.070516Z",
     "start_time": "2018-12-03T09:05:42.522409Z"
    }
   },
   "outputs": [],
   "source": [
    "import sys\n",
    "import json\n",
    "import pandas as pd\n",
    "import numpy as np\n",
    "import string"
   ]
  },
  {
   "cell_type": "code",
   "execution_count": 2,
   "metadata": {
    "ExecuteTime": {
     "end_time": "2018-12-03T09:05:48.223455Z",
     "start_time": "2018-12-03T09:05:45.071528Z"
    }
   },
   "outputs": [],
   "source": [
    "from sklearn.datasets import load_files\n",
    "from sklearn.model_selection import train_test_split\n",
    "from sklearn.metrics import accuracy_score, precision_score\n",
    "from sklearn.feature_extraction.text import TfidfVectorizer\n",
    "from sklearn.svm import LinearSVC\n",
    "from sklearn.linear_model import LogisticRegression\n",
    "from sklearn.linear_model import SGDClassifier\n",
    "from sklearn.base import BaseEstimator\n",
    "from sklearn.model_selection import GridSearchCV\n",
    "from sklearn.pipeline import Pipeline"
   ]
  },
  {
   "cell_type": "code",
   "execution_count": 3,
   "metadata": {
    "ExecuteTime": {
     "end_time": "2018-12-03T09:05:49.185481Z",
     "start_time": "2018-12-03T09:05:48.225080Z"
    }
   },
   "outputs": [],
   "source": [
    "with open('df_by_usr.json', 'r', encoding='UTF-8') as f:\n",
    "    data = f.readlines()\n",
    "    df_by_usr_data = list(map(json.loads, data))\n",
    "    \n",
    "df_by_usr = pd.DataFrame(df_by_usr_data)"
   ]
  },
  {
   "cell_type": "code",
   "execution_count": 4,
   "metadata": {
    "ExecuteTime": {
     "end_time": "2018-12-03T09:05:49.200528Z",
     "start_time": "2018-12-03T09:05:49.187476Z"
    }
   },
   "outputs": [],
   "source": [
    "train_data, test_data, train_target, test_target = train_test_split(df_by_usr['text_agg'],\n",
    "                                                                    df_by_usr['reviewer_label'])"
   ]
  },
  {
   "cell_type": "code",
   "execution_count": 5,
   "metadata": {
    "ExecuteTime": {
     "end_time": "2018-12-03T09:05:51.121037Z",
     "start_time": "2018-12-03T09:05:51.115037Z"
    }
   },
   "outputs": [],
   "source": [
    "str_test_data = []\n",
    "for text in test_data:\n",
    "    str_test_data.append(str(text))"
   ]
  },
  {
   "cell_type": "code",
   "execution_count": 6,
   "metadata": {
    "ExecuteTime": {
     "end_time": "2018-12-03T09:05:51.619455Z",
     "start_time": "2018-12-03T09:05:51.604495Z"
    }
   },
   "outputs": [],
   "source": [
    "str_train_data = []\n",
    "for text in train_data:\n",
    "    str_train_data.append(str(text))"
   ]
  },
  {
   "cell_type": "code",
   "execution_count": 9,
   "metadata": {
    "ExecuteTime": {
     "end_time": "2018-12-03T09:14:25.339324Z",
     "start_time": "2018-12-03T09:13:00.427828Z"
    }
   },
   "outputs": [],
   "source": [
    "vectorizer = TfidfVectorizer(binary=True, ngram_range=(1,2), max_df=0.95) \n",
    "train_features = vectorizer.fit_transform(str_train_data)\n",
    "test_features = vectorizer.transform(str_test_data)\n",
    "\n",
    "pipe = Pipeline([('clf', LogisticRegression())])\n",
    "\n",
    "grid_params = dict(clf__C=np.logspace(5, 9, 5),\n",
    "                   clf__multi_class=['multinomial'],\n",
    "                   clf__solver=['lbfgs'])\n",
    "\n",
    "gs = GridSearchCV(estimator=pipe,\n",
    "                  param_grid=grid_params,\n",
    "                  scoring='accuracy',\n",
    "                  cv=3,\n",
    "                  verbose=2)\n",
    "\n",
    "\n",
    "\n",
    "# pipe = Pipeline([('vect', TfidfVectorizer()),\n",
    "#                  ('clf', LogisticRegression())])\n",
    "\n",
    "# params = [{'vect__ngram_range' : [(1,1),(1,2)] ,\n",
    "#            'vect__max_df' : np.arange(0.8,1.0,0.1),\n",
    "#            'vect__norm' : ['l1','l2', None],\n",
    "#            'vect__sublinear_tf' : [True, False],\n",
    "#            'clf__C' : np.logspace(6, 9, 10),\n",
    "#            #'clf__penalty' : ['l1','l2', None],\n",
    "#            'clf__multi_class' : ['multinomial'],\n",
    "#            'clf__solver' : ['lbfgs']}]\n",
    "\n",
    "# gs = GridSearchCV(pipe, params, verbose=1)"
   ]
  },
  {
   "cell_type": "code",
   "execution_count": 10,
   "metadata": {
    "ExecuteTime": {
     "end_time": "2018-12-03T10:03:35.977695Z",
     "start_time": "2018-12-03T09:14:25.339324Z"
    }
   },
   "outputs": [
    {
     "name": "stdout",
     "output_type": "stream",
     "text": [
      "Fitting 3 folds for each of 5 candidates, totalling 15 fits\n",
      "[CV] clf__C=100000.0, clf__multi_class=multinomial, clf__solver=lbfgs \n",
      "[CV]  clf__C=100000.0, clf__multi_class=multinomial, clf__solver=lbfgs, total= 3.6min\n",
      "[CV] clf__C=100000.0, clf__multi_class=multinomial, clf__solver=lbfgs \n"
     ]
    },
    {
     "name": "stderr",
     "output_type": "stream",
     "text": [
      "[Parallel(n_jobs=1)]: Done   1 out of   1 | elapsed:  3.6min remaining:    0.0s\n"
     ]
    },
    {
     "name": "stdout",
     "output_type": "stream",
     "text": [
      "[CV]  clf__C=100000.0, clf__multi_class=multinomial, clf__solver=lbfgs, total= 3.7min\n",
      "[CV] clf__C=100000.0, clf__multi_class=multinomial, clf__solver=lbfgs \n",
      "[CV]  clf__C=100000.0, clf__multi_class=multinomial, clf__solver=lbfgs, total= 3.6min\n",
      "[CV] clf__C=1000000.0, clf__multi_class=multinomial, clf__solver=lbfgs \n",
      "[CV]  clf__C=1000000.0, clf__multi_class=multinomial, clf__solver=lbfgs, total= 3.8min\n",
      "[CV] clf__C=1000000.0, clf__multi_class=multinomial, clf__solver=lbfgs \n",
      "[CV]  clf__C=1000000.0, clf__multi_class=multinomial, clf__solver=lbfgs, total= 3.6min\n",
      "[CV] clf__C=1000000.0, clf__multi_class=multinomial, clf__solver=lbfgs \n",
      "[CV]  clf__C=1000000.0, clf__multi_class=multinomial, clf__solver=lbfgs, total= 3.6min\n",
      "[CV] clf__C=10000000.0, clf__multi_class=multinomial, clf__solver=lbfgs \n",
      "[CV]  clf__C=10000000.0, clf__multi_class=multinomial, clf__solver=lbfgs, total= 3.4min\n",
      "[CV] clf__C=10000000.0, clf__multi_class=multinomial, clf__solver=lbfgs \n",
      "[CV]  clf__C=10000000.0, clf__multi_class=multinomial, clf__solver=lbfgs, total= 3.3min\n",
      "[CV] clf__C=10000000.0, clf__multi_class=multinomial, clf__solver=lbfgs \n",
      "[CV]  clf__C=10000000.0, clf__multi_class=multinomial, clf__solver=lbfgs, total= 3.7min\n",
      "[CV] clf__C=100000000.0, clf__multi_class=multinomial, clf__solver=lbfgs \n",
      "[CV]  clf__C=100000000.0, clf__multi_class=multinomial, clf__solver=lbfgs, total= 2.9min\n",
      "[CV] clf__C=100000000.0, clf__multi_class=multinomial, clf__solver=lbfgs \n",
      "[CV]  clf__C=100000000.0, clf__multi_class=multinomial, clf__solver=lbfgs, total= 1.9min\n",
      "[CV] clf__C=100000000.0, clf__multi_class=multinomial, clf__solver=lbfgs \n",
      "[CV]  clf__C=100000000.0, clf__multi_class=multinomial, clf__solver=lbfgs, total= 2.2min\n",
      "[CV] clf__C=1000000000.0, clf__multi_class=multinomial, clf__solver=lbfgs \n",
      "[CV]  clf__C=1000000000.0, clf__multi_class=multinomial, clf__solver=lbfgs, total= 2.5min\n",
      "[CV] clf__C=1000000000.0, clf__multi_class=multinomial, clf__solver=lbfgs \n",
      "[CV]  clf__C=1000000000.0, clf__multi_class=multinomial, clf__solver=lbfgs, total= 2.0min\n",
      "[CV] clf__C=1000000000.0, clf__multi_class=multinomial, clf__solver=lbfgs \n",
      "[CV]  clf__C=1000000000.0, clf__multi_class=multinomial, clf__solver=lbfgs, total= 2.0min\n"
     ]
    },
    {
     "name": "stderr",
     "output_type": "stream",
     "text": [
      "[Parallel(n_jobs=1)]: Done  15 out of  15 | elapsed: 46.2min finished\n"
     ]
    },
    {
     "name": "stdout",
     "output_type": "stream",
     "text": [
      "0.7369902617163725\n"
     ]
    },
    {
     "data": {
      "text/plain": [
       "{'memory': None,\n",
       " 'steps': [('clf',\n",
       "   LogisticRegression(C=100000000.0, class_weight=None, dual=False,\n",
       "             fit_intercept=True, intercept_scaling=1, max_iter=100,\n",
       "             multi_class='multinomial', n_jobs=1, penalty='l2',\n",
       "             random_state=None, solver='lbfgs', tol=0.0001, verbose=0,\n",
       "             warm_start=False))],\n",
       " 'clf': LogisticRegression(C=100000000.0, class_weight=None, dual=False,\n",
       "           fit_intercept=True, intercept_scaling=1, max_iter=100,\n",
       "           multi_class='multinomial', n_jobs=1, penalty='l2',\n",
       "           random_state=None, solver='lbfgs', tol=0.0001, verbose=0,\n",
       "           warm_start=False),\n",
       " 'clf__C': 100000000.0,\n",
       " 'clf__class_weight': None,\n",
       " 'clf__dual': False,\n",
       " 'clf__fit_intercept': True,\n",
       " 'clf__intercept_scaling': 1,\n",
       " 'clf__max_iter': 100,\n",
       " 'clf__multi_class': 'multinomial',\n",
       " 'clf__n_jobs': 1,\n",
       " 'clf__penalty': 'l2',\n",
       " 'clf__random_state': None,\n",
       " 'clf__solver': 'lbfgs',\n",
       " 'clf__tol': 0.0001,\n",
       " 'clf__verbose': 0,\n",
       " 'clf__warm_start': False}"
      ]
     },
     "execution_count": 10,
     "metadata": {},
     "output_type": "execute_result"
    }
   ],
   "source": [
    "gs.fit(train_features, train_target) \n",
    "print(gs.best_score_)\n",
    "gs.best_estimator_.get_params()"
   ]
  },
  {
   "cell_type": "code",
   "execution_count": 13,
   "metadata": {
    "ExecuteTime": {
     "end_time": "2018-12-03T14:50:57.680427Z",
     "start_time": "2018-12-03T14:49:32.102171Z"
    }
   },
   "outputs": [],
   "source": [
    "vectorizer = TfidfVectorizer(binary=True, ngram_range=(1,2), max_df=0.98) \n",
    "train_features = vectorizer.fit_transform(str_train_data)\n",
    "test_features = vectorizer.transform(str_test_data)"
   ]
  },
  {
   "cell_type": "code",
   "execution_count": 15,
   "metadata": {
    "ExecuteTime": {
     "end_time": "2018-12-03T15:02:21.040034Z",
     "start_time": "2018-12-03T15:02:20.794392Z"
    }
   },
   "outputs": [
    {
     "ename": "ValueError",
     "evalue": "Solver lbfgs supports only l2 penalties, got l1 penalty.",
     "output_type": "error",
     "traceback": [
      "\u001b[1;31m---------------------------------------------------------------------------\u001b[0m",
      "\u001b[1;31mValueError\u001b[0m                                Traceback (most recent call last)",
      "\u001b[1;32m<ipython-input-15-35ceb1b20f1a>\u001b[0m in \u001b[0;36m<module>\u001b[1;34m\u001b[0m\n\u001b[0;32m      1\u001b[0m \u001b[0mmodel\u001b[0m \u001b[1;33m=\u001b[0m \u001b[0mLogisticRegression\u001b[0m\u001b[1;33m(\u001b[0m\u001b[0mpenalty\u001b[0m\u001b[1;33m=\u001b[0m\u001b[1;34m'l1'\u001b[0m\u001b[1;33m,\u001b[0m \u001b[0mC\u001b[0m\u001b[1;33m=\u001b[0m\u001b[1;36m100000000\u001b[0m\u001b[1;33m,\u001b[0m \u001b[0msolver\u001b[0m\u001b[1;33m=\u001b[0m\u001b[1;34m'lbfgs'\u001b[0m\u001b[1;33m,\u001b[0m \u001b[0mmulti_class\u001b[0m\u001b[1;33m=\u001b[0m\u001b[1;34m'multinomial'\u001b[0m\u001b[1;33m,\u001b[0m \u001b[0mrandom_state\u001b[0m\u001b[1;33m=\u001b[0m\u001b[1;36m0\u001b[0m\u001b[1;33m)\u001b[0m\u001b[1;33m\u001b[0m\u001b[0m\n\u001b[1;32m----> 2\u001b[1;33m \u001b[0mmodel\u001b[0m\u001b[1;33m.\u001b[0m\u001b[0mfit\u001b[0m\u001b[1;33m(\u001b[0m\u001b[0mtrain_features\u001b[0m\u001b[1;33m,\u001b[0m \u001b[0mtrain_target\u001b[0m\u001b[1;33m)\u001b[0m\u001b[1;33m\u001b[0m\u001b[0m\n\u001b[0m\u001b[0;32m      3\u001b[0m \u001b[0mpredicted\u001b[0m \u001b[1;33m=\u001b[0m \u001b[0mmodel\u001b[0m\u001b[1;33m.\u001b[0m\u001b[0mpredict\u001b[0m\u001b[1;33m(\u001b[0m\u001b[0mtest_features\u001b[0m\u001b[1;33m)\u001b[0m\u001b[1;33m\u001b[0m\u001b[0m\n\u001b[0;32m      4\u001b[0m \u001b[1;33m\u001b[0m\u001b[0m\n\u001b[0;32m      5\u001b[0m \u001b[0maccuracy\u001b[0m \u001b[1;33m=\u001b[0m \u001b[0maccuracy_score\u001b[0m\u001b[1;33m(\u001b[0m\u001b[0mpredicted\u001b[0m\u001b[1;33m,\u001b[0m \u001b[0mtest_target\u001b[0m\u001b[1;33m)\u001b[0m\u001b[1;33m\u001b[0m\u001b[0m\n",
      "\u001b[1;32m~\\Miniconda3\\envs\\ml\\lib\\site-packages\\sklearn\\linear_model\\logistic.py\u001b[0m in \u001b[0;36mfit\u001b[1;34m(self, X, y, sample_weight)\u001b[0m\n\u001b[0;32m   1220\u001b[0m \u001b[1;33m\u001b[0m\u001b[0m\n\u001b[0;32m   1221\u001b[0m         _check_solver_option(self.solver, self.multi_class, self.penalty,\n\u001b[1;32m-> 1222\u001b[1;33m                              self.dual)\n\u001b[0m\u001b[0;32m   1223\u001b[0m \u001b[1;33m\u001b[0m\u001b[0m\n\u001b[0;32m   1224\u001b[0m         \u001b[1;32mif\u001b[0m \u001b[0mself\u001b[0m\u001b[1;33m.\u001b[0m\u001b[0msolver\u001b[0m \u001b[1;33m==\u001b[0m \u001b[1;34m'liblinear'\u001b[0m\u001b[1;33m:\u001b[0m\u001b[1;33m\u001b[0m\u001b[0m\n",
      "\u001b[1;32m~\\Miniconda3\\envs\\ml\\lib\\site-packages\\sklearn\\linear_model\\logistic.py\u001b[0m in \u001b[0;36m_check_solver_option\u001b[1;34m(solver, multi_class, penalty, dual)\u001b[0m\n\u001b[0;32m    441\u001b[0m         \u001b[1;32mif\u001b[0m \u001b[0mpenalty\u001b[0m \u001b[1;33m!=\u001b[0m \u001b[1;34m'l2'\u001b[0m\u001b[1;33m:\u001b[0m\u001b[1;33m\u001b[0m\u001b[0m\n\u001b[0;32m    442\u001b[0m             raise ValueError(\"Solver %s supports only l2 penalties, \"\n\u001b[1;32m--> 443\u001b[1;33m                              \"got %s penalty.\" % (solver, penalty))\n\u001b[0m\u001b[0;32m    444\u001b[0m     \u001b[1;32mif\u001b[0m \u001b[0msolver\u001b[0m \u001b[1;33m!=\u001b[0m \u001b[1;34m'liblinear'\u001b[0m\u001b[1;33m:\u001b[0m\u001b[1;33m\u001b[0m\u001b[0m\n\u001b[0;32m    445\u001b[0m         \u001b[1;32mif\u001b[0m \u001b[0mdual\u001b[0m\u001b[1;33m:\u001b[0m\u001b[1;33m\u001b[0m\u001b[0m\n",
      "\u001b[1;31mValueError\u001b[0m: Solver lbfgs supports only l2 penalties, got l1 penalty."
     ]
    }
   ],
   "source": [
    "model = LogisticRegression(C=100000000, solver='lbfgs', multi_class='multinomial', random_state=0)\n",
    "model.fit(train_features, train_target)\n",
    "predicted = model.predict(test_features)\n",
    "    \n",
    "accuracy = accuracy_score(predicted, test_target)\n",
    "accuracy"
   ]
  },
  {
   "cell_type": "markdown",
   "metadata": {},
   "source": [
    "74.88 - lbdfgs, 100000000, max_df=.98\n",
    "74.7 - lbdfgs, 100000000\n",
    "74.3 - lbfgs\n",
    "73.6 - SAGA\n",
    "73.4 - SAG\n",
    "73.2 - newton-cg\n",
    "\n",
    "67.3 - l1_ratio = default"
   ]
  },
  {
   "cell_type": "code",
   "execution_count": 18,
   "metadata": {
    "ExecuteTime": {
     "end_time": "2018-12-03T15:05:04.996997Z",
     "start_time": "2018-12-03T15:04:53.666281Z"
    }
   },
   "outputs": [
    {
     "data": {
      "text/plain": [
       "0.672372475179733"
      ]
     },
     "execution_count": 18,
     "metadata": {},
     "output_type": "execute_result"
    }
   ],
   "source": [
    "model2 = SGDClassifier(loss='log', penalty='elasticnet', l1_ratio=0.2)\n",
    "model2.fit(train_features, train_target)\n",
    "predicted2 = model2.predict(test_features)\n",
    "    \n",
    "accuracy2 = accuracy_score(predicted2, test_target)\n",
    "accuracy2"
   ]
  },
  {
   "cell_type": "code",
   "execution_count": 32,
   "metadata": {
    "ExecuteTime": {
     "end_time": "2018-12-03T15:18:09.163964Z",
     "start_time": "2018-12-03T15:18:09.129060Z"
    }
   },
   "outputs": [
    {
     "data": {
      "text/plain": [
       "array([0.        , 0.67237248, 0.        ])"
      ]
     },
     "execution_count": 32,
     "metadata": {},
     "output_type": "execute_result"
    }
   ],
   "source": [
    "#don't think this is working right\n",
    "precision_score(test_target, predicted2, average=None, labels=['easy','med','hard'], pos_label=2)"
   ]
  },
  {
   "cell_type": "code",
   "execution_count": 17,
   "metadata": {
    "ExecuteTime": {
     "end_time": "2018-12-03T15:04:45.037591Z",
     "start_time": "2018-12-03T15:04:31.468210Z"
    }
   },
   "outputs": [
    {
     "data": {
      "text/plain": [
       "0.7187036403058313"
      ]
     },
     "execution_count": 17,
     "metadata": {},
     "output_type": "execute_result"
    }
   ],
   "source": [
    "model3 = LinearSVC(fit_intercept=True, random_state=0)\n",
    "model3.fit(train_features, train_target)\n",
    "predicted3 = model3.predict(test_features)\n",
    "    \n",
    "accuracy3 = accuracy_score(predicted3, test_target)\n",
    "accuracy3"
   ]
  },
  {
   "cell_type": "code",
   "execution_count": null,
   "metadata": {},
   "outputs": [],
   "source": [
    "# this code saves to csv and loads it back in a weird format with messed up review_stars values\n",
    "# rest_df.to_csv('show_me_the_data/yelp_business_and_reviews', sep='\\t', encoding='utf-8')\n",
    "# df = pd.read_csv('show_me_the_data/yelp_business_and_reviews',sep='\\t',index_col=0, encoding='utf-8')\n",
    "# df.review_stars.unique()"
   ]
  }
 ],
 "metadata": {
  "kernelspec": {
   "display_name": "Python 3",
   "language": "python",
   "name": "python3"
  },
  "language_info": {
   "codemirror_mode": {
    "name": "ipython",
    "version": 3
   },
   "file_extension": ".py",
   "mimetype": "text/x-python",
   "name": "python",
   "nbconvert_exporter": "python",
   "pygments_lexer": "ipython3",
   "version": "3.6.6"
  }
 },
 "nbformat": 4,
 "nbformat_minor": 2
}
