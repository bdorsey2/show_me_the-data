{
 "cells": [
  {
   "cell_type": "code",
   "execution_count": 4,
   "metadata": {
    "ExecuteTime": {
     "end_time": "2018-12-06T08:33:06.900692Z",
     "start_time": "2018-12-06T08:33:04.570018Z"
    }
   },
   "outputs": [],
   "source": [
    "import sys\n",
    "import json\n",
    "import pandas as pd\n",
    "import numpy as np\n",
    "import string\n",
    "import matplotlib.pyplot as plt\n",
    "import seaborn as sns"
   ]
  },
  {
   "cell_type": "code",
   "execution_count": 26,
   "metadata": {
    "ExecuteTime": {
     "end_time": "2018-12-06T08:50:59.703591Z",
     "start_time": "2018-12-06T08:50:59.698603Z"
    }
   },
   "outputs": [],
   "source": [
    "from sklearn.datasets import load_files\n",
    "from sklearn.model_selection import train_test_split\n",
    "from sklearn.metrics import accuracy_score, precision_score, recall_score, confusion_matrix, make_scorer\n",
    "from sklearn.feature_extraction.text import TfidfVectorizer\n",
    "from sklearn.svm import LinearSVC\n",
    "from sklearn.linear_model import LogisticRegression\n",
    "from sklearn.linear_model import SGDClassifier\n",
    "from sklearn.linear_model import PassiveAggressiveClassifier\n",
    "from sklearn.base import BaseEstimator\n",
    "from sklearn.model_selection import GridSearchCV\n",
    "from sklearn.pipeline import Pipeline"
   ]
  },
  {
   "cell_type": "code",
   "execution_count": 6,
   "metadata": {
    "ExecuteTime": {
     "end_time": "2018-12-06T08:33:09.279812Z",
     "start_time": "2018-12-06T08:33:08.355886Z"
    }
   },
   "outputs": [],
   "source": [
    "with open('df_by_usr.json', 'r', encoding='UTF-8') as f:\n",
    "    data = f.readlines()\n",
    "    df_by_usr_data = list(map(json.loads, data))\n",
    "    \n",
    "df_by_usr = pd.DataFrame(df_by_usr_data)"
   ]
  },
  {
   "cell_type": "code",
   "execution_count": 7,
   "metadata": {
    "ExecuteTime": {
     "end_time": "2018-12-06T08:33:09.750423Z",
     "start_time": "2018-12-06T08:33:09.745441Z"
    }
   },
   "outputs": [
    {
     "data": {
      "text/plain": [
       "(35051, 4)"
      ]
     },
     "execution_count": 7,
     "metadata": {},
     "output_type": "execute_result"
    }
   ],
   "source": [
    "df_by_usr.shape"
   ]
  },
  {
   "cell_type": "code",
   "execution_count": 8,
   "metadata": {
    "ExecuteTime": {
     "end_time": "2018-12-06T08:33:10.885362Z",
     "start_time": "2018-12-06T08:33:10.874359Z"
    }
   },
   "outputs": [],
   "source": [
    "train_data, test_data, train_target, test_target = train_test_split(df_by_usr['text_agg'],\n",
    "                                                                    df_by_usr['reviewer_label'])"
   ]
  },
  {
   "cell_type": "code",
   "execution_count": 9,
   "metadata": {
    "ExecuteTime": {
     "end_time": "2018-12-06T08:33:11.495447Z",
     "start_time": "2018-12-06T08:33:11.489454Z"
    }
   },
   "outputs": [],
   "source": [
    "str_test_data = []\n",
    "for text in test_data:\n",
    "    str_test_data.append(str(text))"
   ]
  },
  {
   "cell_type": "code",
   "execution_count": 10,
   "metadata": {
    "ExecuteTime": {
     "end_time": "2018-12-06T08:33:12.304274Z",
     "start_time": "2018-12-06T08:33:12.289278Z"
    }
   },
   "outputs": [],
   "source": [
    "str_train_data = []\n",
    "for text in train_data:\n",
    "    str_train_data.append(str(text))"
   ]
  },
  {
   "cell_type": "markdown",
   "metadata": {},
   "source": [
    "## GridSearchCV"
   ]
  },
  {
   "cell_type": "code",
   "execution_count": 35,
   "metadata": {
    "ExecuteTime": {
     "end_time": "2018-12-06T08:55:58.009732Z",
     "start_time": "2018-12-06T08:55:58.004744Z"
    }
   },
   "outputs": [],
   "source": [
    "def gscv(pipe, grid_params):\n",
    "    return GridSearchCV(estimator=pipe,\n",
    "                  param_grid=grid_params,\n",
    "                  scoring={'recall' : make_scorer(recall_score, average='macro', labels=['easy','hard'])},\n",
    "                  refit='recall',\n",
    "                  cv=3,\n",
    "                  verbose=2)"
   ]
  },
  {
   "cell_type": "code",
   "execution_count": 36,
   "metadata": {
    "ExecuteTime": {
     "end_time": "2018-12-06T14:16:58.749746Z",
     "start_time": "2018-12-06T08:55:59.002320Z"
    }
   },
   "outputs": [
    {
     "name": "stdout",
     "output_type": "stream",
     "text": [
      "Fitting 3 folds for each of 40 candidates, totalling 120 fits\n",
      "[CV] clf__C=100000000.0, clf__fit_intercept=True, clf__tol=0.01 ......\n",
      "[CV]  clf__C=100000000.0, clf__fit_intercept=True, clf__tol=0.01, total= 2.8min\n",
      "[CV] clf__C=100000000.0, clf__fit_intercept=True, clf__tol=0.01 ......\n"
     ]
    },
    {
     "name": "stderr",
     "output_type": "stream",
     "text": [
      "[Parallel(n_jobs=1)]: Done   1 out of   1 | elapsed:  3.2min remaining:    0.0s\n"
     ]
    },
    {
     "name": "stdout",
     "output_type": "stream",
     "text": [
      "[CV]  clf__C=100000000.0, clf__fit_intercept=True, clf__tol=0.01, total= 2.4min\n",
      "[CV] clf__C=100000000.0, clf__fit_intercept=True, clf__tol=0.01 ......\n",
      "[CV]  clf__C=100000000.0, clf__fit_intercept=True, clf__tol=0.01, total= 2.4min\n",
      "[CV] clf__C=100000000.0, clf__fit_intercept=True, clf__tol=0.001 .....\n",
      "[CV]  clf__C=100000000.0, clf__fit_intercept=True, clf__tol=0.001, total= 2.7min\n",
      "[CV] clf__C=100000000.0, clf__fit_intercept=True, clf__tol=0.001 .....\n",
      "[CV]  clf__C=100000000.0, clf__fit_intercept=True, clf__tol=0.001, total= 2.5min\n",
      "[CV] clf__C=100000000.0, clf__fit_intercept=True, clf__tol=0.001 .....\n",
      "[CV]  clf__C=100000000.0, clf__fit_intercept=True, clf__tol=0.001, total= 2.5min\n",
      "[CV] clf__C=100000000.0, clf__fit_intercept=True, clf__tol=0.0001 ....\n",
      "[CV]  clf__C=100000000.0, clf__fit_intercept=True, clf__tol=0.0001, total= 3.0min\n",
      "[CV] clf__C=100000000.0, clf__fit_intercept=True, clf__tol=0.0001 ....\n",
      "[CV]  clf__C=100000000.0, clf__fit_intercept=True, clf__tol=0.0001, total= 3.3min\n",
      "[CV] clf__C=100000000.0, clf__fit_intercept=True, clf__tol=0.0001 ....\n",
      "[CV]  clf__C=100000000.0, clf__fit_intercept=True, clf__tol=0.0001, total= 3.2min\n",
      "[CV] clf__C=100000000.0, clf__fit_intercept=True, clf__tol=1e-05 .....\n",
      "[CV]  clf__C=100000000.0, clf__fit_intercept=True, clf__tol=1e-05, total= 4.0min\n",
      "[CV] clf__C=100000000.0, clf__fit_intercept=True, clf__tol=1e-05 .....\n",
      "[CV]  clf__C=100000000.0, clf__fit_intercept=True, clf__tol=1e-05, total= 4.1min\n",
      "[CV] clf__C=100000000.0, clf__fit_intercept=True, clf__tol=1e-05 .....\n",
      "[CV]  clf__C=100000000.0, clf__fit_intercept=True, clf__tol=1e-05, total= 4.0min\n",
      "[CV] clf__C=100000000.0, clf__fit_intercept=False, clf__tol=0.01 .....\n",
      "[CV]  clf__C=100000000.0, clf__fit_intercept=False, clf__tol=0.01, total= 1.5min\n",
      "[CV] clf__C=100000000.0, clf__fit_intercept=False, clf__tol=0.01 .....\n",
      "[CV]  clf__C=100000000.0, clf__fit_intercept=False, clf__tol=0.01, total= 1.5min\n",
      "[CV] clf__C=100000000.0, clf__fit_intercept=False, clf__tol=0.01 .....\n",
      "[CV]  clf__C=100000000.0, clf__fit_intercept=False, clf__tol=0.01, total= 1.5min\n",
      "[CV] clf__C=100000000.0, clf__fit_intercept=False, clf__tol=0.001 ....\n",
      "[CV]  clf__C=100000000.0, clf__fit_intercept=False, clf__tol=0.001, total= 1.5min\n",
      "[CV] clf__C=100000000.0, clf__fit_intercept=False, clf__tol=0.001 ....\n",
      "[CV]  clf__C=100000000.0, clf__fit_intercept=False, clf__tol=0.001, total= 1.6min\n",
      "[CV] clf__C=100000000.0, clf__fit_intercept=False, clf__tol=0.001 ....\n",
      "[CV]  clf__C=100000000.0, clf__fit_intercept=False, clf__tol=0.001, total= 1.6min\n",
      "[CV] clf__C=100000000.0, clf__fit_intercept=False, clf__tol=0.0001 ...\n",
      "[CV]  clf__C=100000000.0, clf__fit_intercept=False, clf__tol=0.0001, total= 1.6min\n",
      "[CV] clf__C=100000000.0, clf__fit_intercept=False, clf__tol=0.0001 ...\n",
      "[CV]  clf__C=100000000.0, clf__fit_intercept=False, clf__tol=0.0001, total= 1.6min\n",
      "[CV] clf__C=100000000.0, clf__fit_intercept=False, clf__tol=0.0001 ...\n",
      "[CV]  clf__C=100000000.0, clf__fit_intercept=False, clf__tol=0.0001, total= 1.6min\n",
      "[CV] clf__C=100000000.0, clf__fit_intercept=False, clf__tol=1e-05 ....\n",
      "[CV]  clf__C=100000000.0, clf__fit_intercept=False, clf__tol=1e-05, total= 1.7min\n",
      "[CV] clf__C=100000000.0, clf__fit_intercept=False, clf__tol=1e-05 ....\n",
      "[CV]  clf__C=100000000.0, clf__fit_intercept=False, clf__tol=1e-05, total= 1.7min\n",
      "[CV] clf__C=100000000.0, clf__fit_intercept=False, clf__tol=1e-05 ....\n",
      "[CV]  clf__C=100000000.0, clf__fit_intercept=False, clf__tol=1e-05, total= 1.7min\n",
      "[CV] clf__C=177827941.00389227, clf__fit_intercept=True, clf__tol=0.01 \n",
      "[CV]  clf__C=177827941.00389227, clf__fit_intercept=True, clf__tol=0.01, total= 2.5min\n",
      "[CV] clf__C=177827941.00389227, clf__fit_intercept=True, clf__tol=0.01 \n",
      "[CV]  clf__C=177827941.00389227, clf__fit_intercept=True, clf__tol=0.01, total= 2.3min\n",
      "[CV] clf__C=177827941.00389227, clf__fit_intercept=True, clf__tol=0.01 \n",
      "[CV]  clf__C=177827941.00389227, clf__fit_intercept=True, clf__tol=0.01, total= 2.4min\n",
      "[CV] clf__C=177827941.00389227, clf__fit_intercept=True, clf__tol=0.001 \n",
      "[CV]  clf__C=177827941.00389227, clf__fit_intercept=True, clf__tol=0.001, total= 2.6min\n",
      "[CV] clf__C=177827941.00389227, clf__fit_intercept=True, clf__tol=0.001 \n",
      "[CV]  clf__C=177827941.00389227, clf__fit_intercept=True, clf__tol=0.001, total= 2.4min\n",
      "[CV] clf__C=177827941.00389227, clf__fit_intercept=True, clf__tol=0.001 \n",
      "[CV]  clf__C=177827941.00389227, clf__fit_intercept=True, clf__tol=0.001, total= 2.5min\n",
      "[CV] clf__C=177827941.00389227, clf__fit_intercept=True, clf__tol=0.0001 \n",
      "[CV]  clf__C=177827941.00389227, clf__fit_intercept=True, clf__tol=0.0001, total= 2.8min\n",
      "[CV] clf__C=177827941.00389227, clf__fit_intercept=True, clf__tol=0.0001 \n",
      "[CV]  clf__C=177827941.00389227, clf__fit_intercept=True, clf__tol=0.0001, total= 3.1min\n",
      "[CV] clf__C=177827941.00389227, clf__fit_intercept=True, clf__tol=0.0001 \n",
      "[CV]  clf__C=177827941.00389227, clf__fit_intercept=True, clf__tol=0.0001, total= 3.0min\n",
      "[CV] clf__C=177827941.00389227, clf__fit_intercept=True, clf__tol=1e-05 \n",
      "[CV]  clf__C=177827941.00389227, clf__fit_intercept=True, clf__tol=1e-05, total= 3.6min\n",
      "[CV] clf__C=177827941.00389227, clf__fit_intercept=True, clf__tol=1e-05 \n",
      "[CV]  clf__C=177827941.00389227, clf__fit_intercept=True, clf__tol=1e-05, total= 3.9min\n",
      "[CV] clf__C=177827941.00389227, clf__fit_intercept=True, clf__tol=1e-05 \n",
      "[CV]  clf__C=177827941.00389227, clf__fit_intercept=True, clf__tol=1e-05, total= 3.9min\n",
      "[CV] clf__C=177827941.00389227, clf__fit_intercept=False, clf__tol=0.01 \n",
      "[CV]  clf__C=177827941.00389227, clf__fit_intercept=False, clf__tol=0.01, total= 1.4min\n",
      "[CV] clf__C=177827941.00389227, clf__fit_intercept=False, clf__tol=0.01 \n",
      "[CV]  clf__C=177827941.00389227, clf__fit_intercept=False, clf__tol=0.01, total= 1.5min\n",
      "[CV] clf__C=177827941.00389227, clf__fit_intercept=False, clf__tol=0.01 \n",
      "[CV]  clf__C=177827941.00389227, clf__fit_intercept=False, clf__tol=0.01, total= 1.4min\n",
      "[CV] clf__C=177827941.00389227, clf__fit_intercept=False, clf__tol=0.001 \n",
      "[CV]  clf__C=177827941.00389227, clf__fit_intercept=False, clf__tol=0.001, total= 1.5min\n",
      "[CV] clf__C=177827941.00389227, clf__fit_intercept=False, clf__tol=0.001 \n",
      "[CV]  clf__C=177827941.00389227, clf__fit_intercept=False, clf__tol=0.001, total= 1.5min\n",
      "[CV] clf__C=177827941.00389227, clf__fit_intercept=False, clf__tol=0.001 \n",
      "[CV]  clf__C=177827941.00389227, clf__fit_intercept=False, clf__tol=0.001, total= 1.5min\n",
      "[CV] clf__C=177827941.00389227, clf__fit_intercept=False, clf__tol=0.0001 \n",
      "[CV]  clf__C=177827941.00389227, clf__fit_intercept=False, clf__tol=0.0001, total= 1.6min\n",
      "[CV] clf__C=177827941.00389227, clf__fit_intercept=False, clf__tol=0.0001 \n",
      "[CV]  clf__C=177827941.00389227, clf__fit_intercept=False, clf__tol=0.0001, total= 1.6min\n",
      "[CV] clf__C=177827941.00389227, clf__fit_intercept=False, clf__tol=0.0001 \n",
      "[CV]  clf__C=177827941.00389227, clf__fit_intercept=False, clf__tol=0.0001, total= 1.6min\n",
      "[CV] clf__C=177827941.00389227, clf__fit_intercept=False, clf__tol=1e-05 \n",
      "[CV]  clf__C=177827941.00389227, clf__fit_intercept=False, clf__tol=1e-05, total= 1.8min\n",
      "[CV] clf__C=177827941.00389227, clf__fit_intercept=False, clf__tol=1e-05 \n",
      "[CV]  clf__C=177827941.00389227, clf__fit_intercept=False, clf__tol=1e-05, total= 1.7min\n",
      "[CV] clf__C=177827941.00389227, clf__fit_intercept=False, clf__tol=1e-05 \n",
      "[CV]  clf__C=177827941.00389227, clf__fit_intercept=False, clf__tol=1e-05, total= 1.7min\n",
      "[CV] clf__C=316227766.01683795, clf__fit_intercept=True, clf__tol=0.01 \n",
      "[CV]  clf__C=316227766.01683795, clf__fit_intercept=True, clf__tol=0.01, total= 2.5min\n",
      "[CV] clf__C=316227766.01683795, clf__fit_intercept=True, clf__tol=0.01 \n",
      "[CV]  clf__C=316227766.01683795, clf__fit_intercept=True, clf__tol=0.01, total= 2.4min\n",
      "[CV] clf__C=316227766.01683795, clf__fit_intercept=True, clf__tol=0.01 \n",
      "[CV]  clf__C=316227766.01683795, clf__fit_intercept=True, clf__tol=0.01, total= 2.4min\n",
      "[CV] clf__C=316227766.01683795, clf__fit_intercept=True, clf__tol=0.001 \n",
      "[CV]  clf__C=316227766.01683795, clf__fit_intercept=True, clf__tol=0.001, total= 2.6min\n",
      "[CV] clf__C=316227766.01683795, clf__fit_intercept=True, clf__tol=0.001 \n",
      "[CV]  clf__C=316227766.01683795, clf__fit_intercept=True, clf__tol=0.001, total= 2.4min\n",
      "[CV] clf__C=316227766.01683795, clf__fit_intercept=True, clf__tol=0.001 \n"
     ]
    },
    {
     "name": "stdout",
     "output_type": "stream",
     "text": [
      "[CV]  clf__C=316227766.01683795, clf__fit_intercept=True, clf__tol=0.001, total= 2.5min\n",
      "[CV] clf__C=316227766.01683795, clf__fit_intercept=True, clf__tol=0.0001 \n",
      "[CV]  clf__C=316227766.01683795, clf__fit_intercept=True, clf__tol=0.0001, total= 2.8min\n",
      "[CV] clf__C=316227766.01683795, clf__fit_intercept=True, clf__tol=0.0001 \n",
      "[CV]  clf__C=316227766.01683795, clf__fit_intercept=True, clf__tol=0.0001, total= 2.5min\n",
      "[CV] clf__C=316227766.01683795, clf__fit_intercept=True, clf__tol=0.0001 \n",
      "[CV]  clf__C=316227766.01683795, clf__fit_intercept=True, clf__tol=0.0001, total= 2.9min\n",
      "[CV] clf__C=316227766.01683795, clf__fit_intercept=True, clf__tol=1e-05 \n",
      "[CV]  clf__C=316227766.01683795, clf__fit_intercept=True, clf__tol=1e-05, total= 3.9min\n",
      "[CV] clf__C=316227766.01683795, clf__fit_intercept=True, clf__tol=1e-05 \n",
      "[CV]  clf__C=316227766.01683795, clf__fit_intercept=True, clf__tol=1e-05, total= 3.3min\n",
      "[CV] clf__C=316227766.01683795, clf__fit_intercept=True, clf__tol=1e-05 \n",
      "[CV]  clf__C=316227766.01683795, clf__fit_intercept=True, clf__tol=1e-05, total= 3.7min\n",
      "[CV] clf__C=316227766.01683795, clf__fit_intercept=False, clf__tol=0.01 \n",
      "[CV]  clf__C=316227766.01683795, clf__fit_intercept=False, clf__tol=0.01, total= 1.4min\n",
      "[CV] clf__C=316227766.01683795, clf__fit_intercept=False, clf__tol=0.01 \n",
      "[CV]  clf__C=316227766.01683795, clf__fit_intercept=False, clf__tol=0.01, total= 1.5min\n",
      "[CV] clf__C=316227766.01683795, clf__fit_intercept=False, clf__tol=0.01 \n",
      "[CV]  clf__C=316227766.01683795, clf__fit_intercept=False, clf__tol=0.01, total= 1.4min\n",
      "[CV] clf__C=316227766.01683795, clf__fit_intercept=False, clf__tol=0.001 \n",
      "[CV]  clf__C=316227766.01683795, clf__fit_intercept=False, clf__tol=0.001, total= 1.5min\n",
      "[CV] clf__C=316227766.01683795, clf__fit_intercept=False, clf__tol=0.001 \n",
      "[CV]  clf__C=316227766.01683795, clf__fit_intercept=False, clf__tol=0.001, total= 1.5min\n",
      "[CV] clf__C=316227766.01683795, clf__fit_intercept=False, clf__tol=0.001 \n",
      "[CV]  clf__C=316227766.01683795, clf__fit_intercept=False, clf__tol=0.001, total= 1.5min\n",
      "[CV] clf__C=316227766.01683795, clf__fit_intercept=False, clf__tol=0.0001 \n",
      "[CV]  clf__C=316227766.01683795, clf__fit_intercept=False, clf__tol=0.0001, total= 1.6min\n",
      "[CV] clf__C=316227766.01683795, clf__fit_intercept=False, clf__tol=0.0001 \n",
      "[CV]  clf__C=316227766.01683795, clf__fit_intercept=False, clf__tol=0.0001, total= 1.6min\n",
      "[CV] clf__C=316227766.01683795, clf__fit_intercept=False, clf__tol=0.0001 \n",
      "[CV]  clf__C=316227766.01683795, clf__fit_intercept=False, clf__tol=0.0001, total= 1.6min\n",
      "[CV] clf__C=316227766.01683795, clf__fit_intercept=False, clf__tol=1e-05 \n",
      "[CV]  clf__C=316227766.01683795, clf__fit_intercept=False, clf__tol=1e-05, total= 1.8min\n",
      "[CV] clf__C=316227766.01683795, clf__fit_intercept=False, clf__tol=1e-05 \n",
      "[CV]  clf__C=316227766.01683795, clf__fit_intercept=False, clf__tol=1e-05, total= 1.7min\n",
      "[CV] clf__C=316227766.01683795, clf__fit_intercept=False, clf__tol=1e-05 \n",
      "[CV]  clf__C=316227766.01683795, clf__fit_intercept=False, clf__tol=1e-05, total= 1.7min\n",
      "[CV] clf__C=562341325.1903491, clf__fit_intercept=True, clf__tol=0.01 \n",
      "[CV]  clf__C=562341325.1903491, clf__fit_intercept=True, clf__tol=0.01, total= 2.5min\n",
      "[CV] clf__C=562341325.1903491, clf__fit_intercept=True, clf__tol=0.01 \n",
      "[CV]  clf__C=562341325.1903491, clf__fit_intercept=True, clf__tol=0.01, total= 2.3min\n",
      "[CV] clf__C=562341325.1903491, clf__fit_intercept=True, clf__tol=0.01 \n",
      "[CV]  clf__C=562341325.1903491, clf__fit_intercept=True, clf__tol=0.01, total= 2.4min\n",
      "[CV] clf__C=562341325.1903491, clf__fit_intercept=True, clf__tol=0.001 \n",
      "[CV]  clf__C=562341325.1903491, clf__fit_intercept=True, clf__tol=0.001, total= 2.6min\n",
      "[CV] clf__C=562341325.1903491, clf__fit_intercept=True, clf__tol=0.001 \n",
      "[CV]  clf__C=562341325.1903491, clf__fit_intercept=True, clf__tol=0.001, total= 2.4min\n",
      "[CV] clf__C=562341325.1903491, clf__fit_intercept=True, clf__tol=0.001 \n",
      "[CV]  clf__C=562341325.1903491, clf__fit_intercept=True, clf__tol=0.001, total= 2.5min\n",
      "[CV] clf__C=562341325.1903491, clf__fit_intercept=True, clf__tol=0.0001 \n",
      "[CV]  clf__C=562341325.1903491, clf__fit_intercept=True, clf__tol=0.0001, total= 2.9min\n",
      "[CV] clf__C=562341325.1903491, clf__fit_intercept=True, clf__tol=0.0001 \n",
      "[CV]  clf__C=562341325.1903491, clf__fit_intercept=True, clf__tol=0.0001, total= 2.5min\n",
      "[CV] clf__C=562341325.1903491, clf__fit_intercept=True, clf__tol=0.0001 \n",
      "[CV]  clf__C=562341325.1903491, clf__fit_intercept=True, clf__tol=0.0001, total= 2.6min\n",
      "[CV] clf__C=562341325.1903491, clf__fit_intercept=True, clf__tol=1e-05 \n",
      "[CV]  clf__C=562341325.1903491, clf__fit_intercept=True, clf__tol=1e-05, total= 3.0min\n",
      "[CV] clf__C=562341325.1903491, clf__fit_intercept=True, clf__tol=1e-05 \n",
      "[CV]  clf__C=562341325.1903491, clf__fit_intercept=True, clf__tol=1e-05, total= 3.3min\n",
      "[CV] clf__C=562341325.1903491, clf__fit_intercept=True, clf__tol=1e-05 \n",
      "[CV]  clf__C=562341325.1903491, clf__fit_intercept=True, clf__tol=1e-05, total= 3.6min\n",
      "[CV] clf__C=562341325.1903491, clf__fit_intercept=False, clf__tol=0.01 \n",
      "[CV]  clf__C=562341325.1903491, clf__fit_intercept=False, clf__tol=0.01, total= 1.4min\n",
      "[CV] clf__C=562341325.1903491, clf__fit_intercept=False, clf__tol=0.01 \n",
      "[CV]  clf__C=562341325.1903491, clf__fit_intercept=False, clf__tol=0.01, total= 1.5min\n",
      "[CV] clf__C=562341325.1903491, clf__fit_intercept=False, clf__tol=0.01 \n",
      "[CV]  clf__C=562341325.1903491, clf__fit_intercept=False, clf__tol=0.01, total= 1.4min\n",
      "[CV] clf__C=562341325.1903491, clf__fit_intercept=False, clf__tol=0.001 \n",
      "[CV]  clf__C=562341325.1903491, clf__fit_intercept=False, clf__tol=0.001, total= 1.5min\n",
      "[CV] clf__C=562341325.1903491, clf__fit_intercept=False, clf__tol=0.001 \n",
      "[CV]  clf__C=562341325.1903491, clf__fit_intercept=False, clf__tol=0.001, total= 1.5min\n",
      "[CV] clf__C=562341325.1903491, clf__fit_intercept=False, clf__tol=0.001 \n",
      "[CV]  clf__C=562341325.1903491, clf__fit_intercept=False, clf__tol=0.001, total= 1.5min\n",
      "[CV] clf__C=562341325.1903491, clf__fit_intercept=False, clf__tol=0.0001 \n",
      "[CV]  clf__C=562341325.1903491, clf__fit_intercept=False, clf__tol=0.0001, total= 1.6min\n",
      "[CV] clf__C=562341325.1903491, clf__fit_intercept=False, clf__tol=0.0001 \n",
      "[CV]  clf__C=562341325.1903491, clf__fit_intercept=False, clf__tol=0.0001, total= 1.6min\n",
      "[CV] clf__C=562341325.1903491, clf__fit_intercept=False, clf__tol=0.0001 \n",
      "[CV]  clf__C=562341325.1903491, clf__fit_intercept=False, clf__tol=0.0001, total= 1.6min\n",
      "[CV] clf__C=562341325.1903491, clf__fit_intercept=False, clf__tol=1e-05 \n",
      "[CV]  clf__C=562341325.1903491, clf__fit_intercept=False, clf__tol=1e-05, total= 1.8min\n",
      "[CV] clf__C=562341325.1903491, clf__fit_intercept=False, clf__tol=1e-05 \n",
      "[CV]  clf__C=562341325.1903491, clf__fit_intercept=False, clf__tol=1e-05, total= 1.7min\n",
      "[CV] clf__C=562341325.1903491, clf__fit_intercept=False, clf__tol=1e-05 \n",
      "[CV]  clf__C=562341325.1903491, clf__fit_intercept=False, clf__tol=1e-05, total= 1.7min\n",
      "[CV] clf__C=1000000000.0, clf__fit_intercept=True, clf__tol=0.01 .....\n",
      "[CV]  clf__C=1000000000.0, clf__fit_intercept=True, clf__tol=0.01, total= 2.5min\n",
      "[CV] clf__C=1000000000.0, clf__fit_intercept=True, clf__tol=0.01 .....\n",
      "[CV]  clf__C=1000000000.0, clf__fit_intercept=True, clf__tol=0.01, total= 2.3min\n",
      "[CV] clf__C=1000000000.0, clf__fit_intercept=True, clf__tol=0.01 .....\n",
      "[CV]  clf__C=1000000000.0, clf__fit_intercept=True, clf__tol=0.01, total= 2.4min\n",
      "[CV] clf__C=1000000000.0, clf__fit_intercept=True, clf__tol=0.001 ....\n",
      "[CV]  clf__C=1000000000.0, clf__fit_intercept=True, clf__tol=0.001, total= 2.6min\n",
      "[CV] clf__C=1000000000.0, clf__fit_intercept=True, clf__tol=0.001 ....\n",
      "[CV]  clf__C=1000000000.0, clf__fit_intercept=True, clf__tol=0.001, total= 2.4min\n",
      "[CV] clf__C=1000000000.0, clf__fit_intercept=True, clf__tol=0.001 ....\n",
      "[CV]  clf__C=1000000000.0, clf__fit_intercept=True, clf__tol=0.001, total= 2.5min\n",
      "[CV] clf__C=1000000000.0, clf__fit_intercept=True, clf__tol=0.0001 ...\n",
      "[CV]  clf__C=1000000000.0, clf__fit_intercept=True, clf__tol=0.0001, total= 2.8min\n",
      "[CV] clf__C=1000000000.0, clf__fit_intercept=True, clf__tol=0.0001 ...\n",
      "[CV]  clf__C=1000000000.0, clf__fit_intercept=True, clf__tol=0.0001, total= 2.5min\n",
      "[CV] clf__C=1000000000.0, clf__fit_intercept=True, clf__tol=0.0001 ...\n",
      "[CV]  clf__C=1000000000.0, clf__fit_intercept=True, clf__tol=0.0001, total= 2.6min\n",
      "[CV] clf__C=1000000000.0, clf__fit_intercept=True, clf__tol=1e-05 ....\n"
     ]
    },
    {
     "name": "stdout",
     "output_type": "stream",
     "text": [
      "[CV]  clf__C=1000000000.0, clf__fit_intercept=True, clf__tol=1e-05, total= 3.5min\n",
      "[CV] clf__C=1000000000.0, clf__fit_intercept=True, clf__tol=1e-05 ....\n",
      "[CV]  clf__C=1000000000.0, clf__fit_intercept=True, clf__tol=1e-05, total= 3.2min\n",
      "[CV] clf__C=1000000000.0, clf__fit_intercept=True, clf__tol=1e-05 ....\n",
      "[CV]  clf__C=1000000000.0, clf__fit_intercept=True, clf__tol=1e-05, total= 3.3min\n",
      "[CV] clf__C=1000000000.0, clf__fit_intercept=False, clf__tol=0.01 ....\n",
      "[CV]  clf__C=1000000000.0, clf__fit_intercept=False, clf__tol=0.01, total= 1.4min\n",
      "[CV] clf__C=1000000000.0, clf__fit_intercept=False, clf__tol=0.01 ....\n",
      "[CV]  clf__C=1000000000.0, clf__fit_intercept=False, clf__tol=0.01, total= 1.5min\n",
      "[CV] clf__C=1000000000.0, clf__fit_intercept=False, clf__tol=0.01 ....\n",
      "[CV]  clf__C=1000000000.0, clf__fit_intercept=False, clf__tol=0.01, total= 1.4min\n",
      "[CV] clf__C=1000000000.0, clf__fit_intercept=False, clf__tol=0.001 ...\n",
      "[CV]  clf__C=1000000000.0, clf__fit_intercept=False, clf__tol=0.001, total= 1.5min\n",
      "[CV] clf__C=1000000000.0, clf__fit_intercept=False, clf__tol=0.001 ...\n",
      "[CV]  clf__C=1000000000.0, clf__fit_intercept=False, clf__tol=0.001, total= 1.5min\n",
      "[CV] clf__C=1000000000.0, clf__fit_intercept=False, clf__tol=0.001 ...\n",
      "[CV]  clf__C=1000000000.0, clf__fit_intercept=False, clf__tol=0.001, total= 1.5min\n",
      "[CV] clf__C=1000000000.0, clf__fit_intercept=False, clf__tol=0.0001 ..\n",
      "[CV]  clf__C=1000000000.0, clf__fit_intercept=False, clf__tol=0.0001, total= 1.6min\n",
      "[CV] clf__C=1000000000.0, clf__fit_intercept=False, clf__tol=0.0001 ..\n",
      "[CV]  clf__C=1000000000.0, clf__fit_intercept=False, clf__tol=0.0001, total= 1.6min\n",
      "[CV] clf__C=1000000000.0, clf__fit_intercept=False, clf__tol=0.0001 ..\n",
      "[CV]  clf__C=1000000000.0, clf__fit_intercept=False, clf__tol=0.0001, total= 1.6min\n",
      "[CV] clf__C=1000000000.0, clf__fit_intercept=False, clf__tol=1e-05 ...\n",
      "[CV]  clf__C=1000000000.0, clf__fit_intercept=False, clf__tol=1e-05, total= 1.8min\n",
      "[CV] clf__C=1000000000.0, clf__fit_intercept=False, clf__tol=1e-05 ...\n",
      "[CV]  clf__C=1000000000.0, clf__fit_intercept=False, clf__tol=1e-05, total= 1.7min\n",
      "[CV] clf__C=1000000000.0, clf__fit_intercept=False, clf__tol=1e-05 ...\n",
      "[CV]  clf__C=1000000000.0, clf__fit_intercept=False, clf__tol=1e-05, total= 1.7min\n"
     ]
    },
    {
     "name": "stderr",
     "output_type": "stream",
     "text": [
      "[Parallel(n_jobs=1)]: Done 120 out of 120 | elapsed: 317.9min finished\n"
     ]
    },
    {
     "name": "stdout",
     "output_type": "stream",
     "text": [
      "0.404550292262671\n"
     ]
    },
    {
     "data": {
      "text/plain": [
       "{'memory': None,\n",
       " 'steps': [('vect',\n",
       "   TfidfVectorizer(analyzer='word', binary=True, decode_error='strict',\n",
       "           dtype=<class 'numpy.int64'>, encoding='utf-8', input='content',\n",
       "           lowercase=True, max_df=0.98, max_features=None, min_df=1,\n",
       "           ngram_range=(1, 2), norm='l2', preprocessor=None, smooth_idf=True,\n",
       "           stop_words=None, strip_accents=None, sublinear_tf=False,\n",
       "           token_pattern='(?u)\\\\b\\\\w\\\\w+\\\\b', tokenizer=None, use_idf=True,\n",
       "           vocabulary=None)),\n",
       "  ('clf', LogisticRegression(C=1000000000.0, class_weight=None, dual=False,\n",
       "             fit_intercept=True, intercept_scaling=1, max_iter=100,\n",
       "             multi_class='multinomial', n_jobs=1, penalty='l2',\n",
       "             random_state=None, solver='lbfgs', tol=0.01, verbose=0,\n",
       "             warm_start=False))],\n",
       " 'vect': TfidfVectorizer(analyzer='word', binary=True, decode_error='strict',\n",
       "         dtype=<class 'numpy.int64'>, encoding='utf-8', input='content',\n",
       "         lowercase=True, max_df=0.98, max_features=None, min_df=1,\n",
       "         ngram_range=(1, 2), norm='l2', preprocessor=None, smooth_idf=True,\n",
       "         stop_words=None, strip_accents=None, sublinear_tf=False,\n",
       "         token_pattern='(?u)\\\\b\\\\w\\\\w+\\\\b', tokenizer=None, use_idf=True,\n",
       "         vocabulary=None),\n",
       " 'clf': LogisticRegression(C=1000000000.0, class_weight=None, dual=False,\n",
       "           fit_intercept=True, intercept_scaling=1, max_iter=100,\n",
       "           multi_class='multinomial', n_jobs=1, penalty='l2',\n",
       "           random_state=None, solver='lbfgs', tol=0.01, verbose=0,\n",
       "           warm_start=False),\n",
       " 'vect__analyzer': 'word',\n",
       " 'vect__binary': True,\n",
       " 'vect__decode_error': 'strict',\n",
       " 'vect__dtype': numpy.int64,\n",
       " 'vect__encoding': 'utf-8',\n",
       " 'vect__input': 'content',\n",
       " 'vect__lowercase': True,\n",
       " 'vect__max_df': 0.98,\n",
       " 'vect__max_features': None,\n",
       " 'vect__min_df': 1,\n",
       " 'vect__ngram_range': (1, 2),\n",
       " 'vect__norm': 'l2',\n",
       " 'vect__preprocessor': None,\n",
       " 'vect__smooth_idf': True,\n",
       " 'vect__stop_words': None,\n",
       " 'vect__strip_accents': None,\n",
       " 'vect__sublinear_tf': False,\n",
       " 'vect__token_pattern': '(?u)\\\\b\\\\w\\\\w+\\\\b',\n",
       " 'vect__tokenizer': None,\n",
       " 'vect__use_idf': True,\n",
       " 'vect__vocabulary': None,\n",
       " 'clf__C': 1000000000.0,\n",
       " 'clf__class_weight': None,\n",
       " 'clf__dual': False,\n",
       " 'clf__fit_intercept': True,\n",
       " 'clf__intercept_scaling': 1,\n",
       " 'clf__max_iter': 100,\n",
       " 'clf__multi_class': 'multinomial',\n",
       " 'clf__n_jobs': 1,\n",
       " 'clf__penalty': 'l2',\n",
       " 'clf__random_state': None,\n",
       " 'clf__solver': 'lbfgs',\n",
       " 'clf__tol': 0.01,\n",
       " 'clf__verbose': 0,\n",
       " 'clf__warm_start': False}"
      ]
     },
     "execution_count": 36,
     "metadata": {},
     "output_type": "execute_result"
    }
   ],
   "source": [
    "pipe_lr = Pipeline([('vect', TfidfVectorizer(binary=True, ngram_range=(1,2), max_df=0.98)),\n",
    "                 ('clf', LogisticRegression(multi_class='multinomial', solver='lbfgs'))])\n",
    "\n",
    "grid_params = dict(clf__C=np.logspace(8, 9, 5),\n",
    "                   clf__tol=[0.01,0.001,0.0001,0.00001],\n",
    "                   clf__fit_intercept=[True,False])\n",
    "\n",
    "gs_lr = gscv(pipe_lr, grid_params)\n",
    "gs_lr.fit(str_train_data, train_target)\n",
    "\n",
    "print(gs_lr.best_score_)\n",
    "gs_lr.best_estimator_.get_params()"
   ]
  },
  {
   "cell_type": "markdown",
   "metadata": {},
   "source": [
    "{'memory': None,\n",
    " 'steps': [('clf',\n",
    "   LogisticRegression(C=562341325.1903491, class_weight=None, dual=False,\n",
    "             fit_intercept=True, intercept_scaling=1, max_iter=100,\n",
    "             multi_class='multinomial', n_jobs=1, penalty='l2',\n",
    "             random_state=0, solver='lbfgs', tol=0.01, verbose=0,\n",
    "             warm_start=False))],\n",
    " 'clf': LogisticRegression(C=562341325.1903491, class_weight=None, dual=False,\n",
    "           fit_intercept=True, intercept_scaling=1, max_iter=100,\n",
    "           multi_class='multinomial', n_jobs=1, penalty='l2',\n",
    "           random_state=0, solver='lbfgs', tol=0.01, verbose=0,\n",
    "           warm_start=False),\n",
    " 'clf__C': 562341325.1903491,\n",
    " 'clf__class_weight': None,\n",
    " 'clf__dual': False,\n",
    " 'clf__fit_intercept': True,\n",
    " 'clf__intercept_scaling': 1,\n",
    " 'clf__max_iter': 100,\n",
    " 'clf__multi_class': 'multinomial',\n",
    " 'clf__n_jobs': 1,\n",
    " 'clf__penalty': 'l2',\n",
    " 'clf__random_state': 0,\n",
    " 'clf__solver': 'lbfgs',\n",
    " 'clf__tol': 0.01,\n",
    " 'clf__verbose': 0,\n",
    " 'clf__warm_start': False}"
   ]
  },
  {
   "cell_type": "code",
   "execution_count": 37,
   "metadata": {
    "ExecuteTime": {
     "end_time": "2018-12-06T18:54:20.848898Z",
     "start_time": "2018-12-06T14:16:58.749746Z"
    }
   },
   "outputs": [
    {
     "name": "stdout",
     "output_type": "stream",
     "text": [
      "Fitting 3 folds for each of 12 candidates, totalling 36 fits\n",
      "[CV] vect__max_df=0.9, vect__ngram_range=(1, 2), vect__norm=l1, vect__sublinear_tf=True \n",
      "[CV]  vect__max_df=0.9, vect__ngram_range=(1, 2), vect__norm=l1, vect__sublinear_tf=True, total= 3.9min\n",
      "[CV] vect__max_df=0.9, vect__ngram_range=(1, 2), vect__norm=l1, vect__sublinear_tf=True \n"
     ]
    },
    {
     "name": "stderr",
     "output_type": "stream",
     "text": [
      "[Parallel(n_jobs=1)]: Done   1 out of   1 | elapsed:  4.3min remaining:    0.0s\n"
     ]
    },
    {
     "name": "stdout",
     "output_type": "stream",
     "text": [
      "[CV]  vect__max_df=0.9, vect__ngram_range=(1, 2), vect__norm=l1, vect__sublinear_tf=True, total= 3.6min\n",
      "[CV] vect__max_df=0.9, vect__ngram_range=(1, 2), vect__norm=l1, vect__sublinear_tf=True \n",
      "[CV]  vect__max_df=0.9, vect__ngram_range=(1, 2), vect__norm=l1, vect__sublinear_tf=True, total= 3.9min\n",
      "[CV] vect__max_df=0.9, vect__ngram_range=(1, 2), vect__norm=l1, vect__sublinear_tf=False \n",
      "[CV]  vect__max_df=0.9, vect__ngram_range=(1, 2), vect__norm=l1, vect__sublinear_tf=False, total= 3.9min\n",
      "[CV] vect__max_df=0.9, vect__ngram_range=(1, 2), vect__norm=l1, vect__sublinear_tf=False \n",
      "[CV]  vect__max_df=0.9, vect__ngram_range=(1, 2), vect__norm=l1, vect__sublinear_tf=False, total= 3.6min\n",
      "[CV] vect__max_df=0.9, vect__ngram_range=(1, 2), vect__norm=l1, vect__sublinear_tf=False \n",
      "[CV]  vect__max_df=0.9, vect__ngram_range=(1, 2), vect__norm=l1, vect__sublinear_tf=False, total= 3.9min\n",
      "[CV] vect__max_df=0.9, vect__ngram_range=(1, 2), vect__norm=l2, vect__sublinear_tf=True \n",
      "[CV]  vect__max_df=0.9, vect__ngram_range=(1, 2), vect__norm=l2, vect__sublinear_tf=True, total= 2.6min\n",
      "[CV] vect__max_df=0.9, vect__ngram_range=(1, 2), vect__norm=l2, vect__sublinear_tf=True \n",
      "[CV]  vect__max_df=0.9, vect__ngram_range=(1, 2), vect__norm=l2, vect__sublinear_tf=True, total= 2.5min\n",
      "[CV] vect__max_df=0.9, vect__ngram_range=(1, 2), vect__norm=l2, vect__sublinear_tf=True \n",
      "[CV]  vect__max_df=0.9, vect__ngram_range=(1, 2), vect__norm=l2, vect__sublinear_tf=True, total= 2.5min\n",
      "[CV] vect__max_df=0.9, vect__ngram_range=(1, 2), vect__norm=l2, vect__sublinear_tf=False \n",
      "[CV]  vect__max_df=0.9, vect__ngram_range=(1, 2), vect__norm=l2, vect__sublinear_tf=False, total= 2.6min\n",
      "[CV] vect__max_df=0.9, vect__ngram_range=(1, 2), vect__norm=l2, vect__sublinear_tf=False \n",
      "[CV]  vect__max_df=0.9, vect__ngram_range=(1, 2), vect__norm=l2, vect__sublinear_tf=False, total= 2.5min\n",
      "[CV] vect__max_df=0.9, vect__ngram_range=(1, 2), vect__norm=l2, vect__sublinear_tf=False \n",
      "[CV]  vect__max_df=0.9, vect__ngram_range=(1, 2), vect__norm=l2, vect__sublinear_tf=False, total= 2.5min\n",
      "[CV] vect__max_df=0.9, vect__ngram_range=(1, 2), vect__norm=None, vect__sublinear_tf=True \n",
      "[CV]  vect__max_df=0.9, vect__ngram_range=(1, 2), vect__norm=None, vect__sublinear_tf=True, total= 1.7min\n",
      "[CV] vect__max_df=0.9, vect__ngram_range=(1, 2), vect__norm=None, vect__sublinear_tf=True \n",
      "[CV]  vect__max_df=0.9, vect__ngram_range=(1, 2), vect__norm=None, vect__sublinear_tf=True, total= 1.7min\n",
      "[CV] vect__max_df=0.9, vect__ngram_range=(1, 2), vect__norm=None, vect__sublinear_tf=True \n",
      "[CV]  vect__max_df=0.9, vect__ngram_range=(1, 2), vect__norm=None, vect__sublinear_tf=True, total=83.4min\n",
      "[CV] vect__max_df=0.9, vect__ngram_range=(1, 2), vect__norm=None, vect__sublinear_tf=False \n",
      "[CV]  vect__max_df=0.9, vect__ngram_range=(1, 2), vect__norm=None, vect__sublinear_tf=False, total= 1.7min\n",
      "[CV] vect__max_df=0.9, vect__ngram_range=(1, 2), vect__norm=None, vect__sublinear_tf=False \n",
      "[CV]  vect__max_df=0.9, vect__ngram_range=(1, 2), vect__norm=None, vect__sublinear_tf=False, total= 1.7min\n",
      "[CV] vect__max_df=0.9, vect__ngram_range=(1, 2), vect__norm=None, vect__sublinear_tf=False \n",
      "[CV]  vect__max_df=0.9, vect__ngram_range=(1, 2), vect__norm=None, vect__sublinear_tf=False, total= 1.8min\n",
      "[CV] vect__max_df=0.9, vect__ngram_range=(2, 2), vect__norm=l1, vect__sublinear_tf=True \n",
      "[CV]  vect__max_df=0.9, vect__ngram_range=(2, 2), vect__norm=l1, vect__sublinear_tf=True, total= 3.3min\n",
      "[CV] vect__max_df=0.9, vect__ngram_range=(2, 2), vect__norm=l1, vect__sublinear_tf=True \n",
      "[CV]  vect__max_df=0.9, vect__ngram_range=(2, 2), vect__norm=l1, vect__sublinear_tf=True, total= 3.4min\n",
      "[CV] vect__max_df=0.9, vect__ngram_range=(2, 2), vect__norm=l1, vect__sublinear_tf=True \n",
      "[CV]  vect__max_df=0.9, vect__ngram_range=(2, 2), vect__norm=l1, vect__sublinear_tf=True, total= 3.4min\n",
      "[CV] vect__max_df=0.9, vect__ngram_range=(2, 2), vect__norm=l1, vect__sublinear_tf=False \n",
      "[CV]  vect__max_df=0.9, vect__ngram_range=(2, 2), vect__norm=l1, vect__sublinear_tf=False, total= 3.3min\n",
      "[CV] vect__max_df=0.9, vect__ngram_range=(2, 2), vect__norm=l1, vect__sublinear_tf=False \n",
      "[CV]  vect__max_df=0.9, vect__ngram_range=(2, 2), vect__norm=l1, vect__sublinear_tf=False, total= 3.4min\n",
      "[CV] vect__max_df=0.9, vect__ngram_range=(2, 2), vect__norm=l1, vect__sublinear_tf=False \n",
      "[CV]  vect__max_df=0.9, vect__ngram_range=(2, 2), vect__norm=l1, vect__sublinear_tf=False, total= 3.3min\n",
      "[CV] vect__max_df=0.9, vect__ngram_range=(2, 2), vect__norm=l2, vect__sublinear_tf=True \n",
      "[CV]  vect__max_df=0.9, vect__ngram_range=(2, 2), vect__norm=l2, vect__sublinear_tf=True, total= 1.9min\n",
      "[CV] vect__max_df=0.9, vect__ngram_range=(2, 2), vect__norm=l2, vect__sublinear_tf=True \n",
      "[CV]  vect__max_df=0.9, vect__ngram_range=(2, 2), vect__norm=l2, vect__sublinear_tf=True, total= 1.9min\n",
      "[CV] vect__max_df=0.9, vect__ngram_range=(2, 2), vect__norm=l2, vect__sublinear_tf=True \n",
      "[CV]  vect__max_df=0.9, vect__ngram_range=(2, 2), vect__norm=l2, vect__sublinear_tf=True, total= 1.9min\n",
      "[CV] vect__max_df=0.9, vect__ngram_range=(2, 2), vect__norm=l2, vect__sublinear_tf=False \n",
      "[CV]  vect__max_df=0.9, vect__ngram_range=(2, 2), vect__norm=l2, vect__sublinear_tf=False, total= 1.9min\n",
      "[CV] vect__max_df=0.9, vect__ngram_range=(2, 2), vect__norm=l2, vect__sublinear_tf=False \n",
      "[CV]  vect__max_df=0.9, vect__ngram_range=(2, 2), vect__norm=l2, vect__sublinear_tf=False, total= 1.9min\n",
      "[CV] vect__max_df=0.9, vect__ngram_range=(2, 2), vect__norm=l2, vect__sublinear_tf=False \n",
      "[CV]  vect__max_df=0.9, vect__ngram_range=(2, 2), vect__norm=l2, vect__sublinear_tf=False, total= 1.9min\n",
      "[CV] vect__max_df=0.9, vect__ngram_range=(2, 2), vect__norm=None, vect__sublinear_tf=True \n",
      "[CV]  vect__max_df=0.9, vect__ngram_range=(2, 2), vect__norm=None, vect__sublinear_tf=True, total= 1.4min\n",
      "[CV] vect__max_df=0.9, vect__ngram_range=(2, 2), vect__norm=None, vect__sublinear_tf=True \n",
      "[CV]  vect__max_df=0.9, vect__ngram_range=(2, 2), vect__norm=None, vect__sublinear_tf=True, total= 1.4min\n",
      "[CV] vect__max_df=0.9, vect__ngram_range=(2, 2), vect__norm=None, vect__sublinear_tf=True \n",
      "[CV]  vect__max_df=0.9, vect__ngram_range=(2, 2), vect__norm=None, vect__sublinear_tf=True, total= 1.5min\n",
      "[CV] vect__max_df=0.9, vect__ngram_range=(2, 2), vect__norm=None, vect__sublinear_tf=False \n",
      "[CV]  vect__max_df=0.9, vect__ngram_range=(2, 2), vect__norm=None, vect__sublinear_tf=False, total= 1.4min\n",
      "[CV] vect__max_df=0.9, vect__ngram_range=(2, 2), vect__norm=None, vect__sublinear_tf=False \n",
      "[CV]  vect__max_df=0.9, vect__ngram_range=(2, 2), vect__norm=None, vect__sublinear_tf=False, total= 1.4min\n",
      "[CV] vect__max_df=0.9, vect__ngram_range=(2, 2), vect__norm=None, vect__sublinear_tf=False \n",
      "[CV]  vect__max_df=0.9, vect__ngram_range=(2, 2), vect__norm=None, vect__sublinear_tf=False, total= 1.5min\n"
     ]
    },
    {
     "name": "stderr",
     "output_type": "stream",
     "text": [
      "[Parallel(n_jobs=1)]: Done  36 out of  36 | elapsed: 183.7min finished\n"
     ]
    },
    {
     "name": "stdout",
     "output_type": "stream",
     "text": [
      "0.4366309495514316\n"
     ]
    },
    {
     "data": {
      "text/plain": [
       "{'memory': None,\n",
       " 'steps': [('vect',\n",
       "   TfidfVectorizer(analyzer='word', binary=True, decode_error='strict',\n",
       "           dtype=<class 'numpy.int64'>, encoding='utf-8', input='content',\n",
       "           lowercase=True, max_df=0.9, max_features=None, min_df=1,\n",
       "           ngram_range=(1, 2), norm='l2', preprocessor=None, smooth_idf=True,\n",
       "           stop_words=None, strip_accents=None, sublinear_tf=True,\n",
       "           token_pattern='(?u)\\\\b\\\\w\\\\w+\\\\b', tokenizer=None, use_idf=True,\n",
       "           vocabulary=None)),\n",
       "  ('clf', LogisticRegression(C=562341325, class_weight=None, dual=False,\n",
       "             fit_intercept=True, intercept_scaling=1, max_iter=100,\n",
       "             multi_class='multinomial', n_jobs=1, penalty='l2',\n",
       "             random_state=None, solver='lbfgs', tol=0.01, verbose=0,\n",
       "             warm_start=False))],\n",
       " 'vect': TfidfVectorizer(analyzer='word', binary=True, decode_error='strict',\n",
       "         dtype=<class 'numpy.int64'>, encoding='utf-8', input='content',\n",
       "         lowercase=True, max_df=0.9, max_features=None, min_df=1,\n",
       "         ngram_range=(1, 2), norm='l2', preprocessor=None, smooth_idf=True,\n",
       "         stop_words=None, strip_accents=None, sublinear_tf=True,\n",
       "         token_pattern='(?u)\\\\b\\\\w\\\\w+\\\\b', tokenizer=None, use_idf=True,\n",
       "         vocabulary=None),\n",
       " 'clf': LogisticRegression(C=562341325, class_weight=None, dual=False,\n",
       "           fit_intercept=True, intercept_scaling=1, max_iter=100,\n",
       "           multi_class='multinomial', n_jobs=1, penalty='l2',\n",
       "           random_state=None, solver='lbfgs', tol=0.01, verbose=0,\n",
       "           warm_start=False),\n",
       " 'vect__analyzer': 'word',\n",
       " 'vect__binary': True,\n",
       " 'vect__decode_error': 'strict',\n",
       " 'vect__dtype': numpy.int64,\n",
       " 'vect__encoding': 'utf-8',\n",
       " 'vect__input': 'content',\n",
       " 'vect__lowercase': True,\n",
       " 'vect__max_df': 0.9,\n",
       " 'vect__max_features': None,\n",
       " 'vect__min_df': 1,\n",
       " 'vect__ngram_range': (1, 2),\n",
       " 'vect__norm': 'l2',\n",
       " 'vect__preprocessor': None,\n",
       " 'vect__smooth_idf': True,\n",
       " 'vect__stop_words': None,\n",
       " 'vect__strip_accents': None,\n",
       " 'vect__sublinear_tf': True,\n",
       " 'vect__token_pattern': '(?u)\\\\b\\\\w\\\\w+\\\\b',\n",
       " 'vect__tokenizer': None,\n",
       " 'vect__use_idf': True,\n",
       " 'vect__vocabulary': None,\n",
       " 'clf__C': 562341325,\n",
       " 'clf__class_weight': None,\n",
       " 'clf__dual': False,\n",
       " 'clf__fit_intercept': True,\n",
       " 'clf__intercept_scaling': 1,\n",
       " 'clf__max_iter': 100,\n",
       " 'clf__multi_class': 'multinomial',\n",
       " 'clf__n_jobs': 1,\n",
       " 'clf__penalty': 'l2',\n",
       " 'clf__random_state': None,\n",
       " 'clf__solver': 'lbfgs',\n",
       " 'clf__tol': 0.01,\n",
       " 'clf__verbose': 0,\n",
       " 'clf__warm_start': False}"
      ]
     },
     "execution_count": 37,
     "metadata": {},
     "output_type": "execute_result"
    }
   ],
   "source": [
    "pipe_tfidf = Pipeline([('vect', TfidfVectorizer(binary=True, ngram_range=(1,2), max_df=0.98)),\n",
    "                 ('clf', LogisticRegression(C=562341325, multi_class='multinomial',tol=0.01, solver='lbfgs'))])\n",
    "\n",
    "grid_params = [{'vect__ngram_range' : [(1,2),(2,2)],\n",
    "           'vect__max_df' : np.arange(0.9,1.0,0.1),\n",
    "           'vect__norm' : ['l1','l2', None],\n",
    "           'vect__sublinear_tf' : [True, False]}]\n",
    "\n",
    "gs_tfidf = gscv(pipe_tfidf, grid_params)\n",
    "\n",
    "gs_tfidf.fit(str_train_data, train_target) \n",
    "print(gs_tfidf.best_score_)\n",
    "gs_tfidf.best_estimator_.get_params()"
   ]
  },
  {
   "cell_type": "markdown",
   "metadata": {},
   "source": [
    "## Metric Functions"
   ]
  },
  {
   "cell_type": "code",
   "execution_count": 16,
   "metadata": {
    "ExecuteTime": {
     "end_time": "2018-12-06T08:41:18.720124Z",
     "start_time": "2018-12-06T08:41:18.715157Z"
    }
   },
   "outputs": [],
   "source": [
    "def print_metrics(pred):\n",
    "    acc = accuracy_score(pred, test_target)\n",
    "    prec = precision_score(test_target, pred, average=None, labels=['easy','med','hard'])\n",
    "    rec = recall_score(test_target, pred, average=None,  labels=['easy','med','hard'])\n",
    "\n",
    "    print(f\"Accuracy: {acc}\")\n",
    "    print(f\"Precision: {prec}\")\n",
    "    print(f\"Recall: {rec}\")"
   ]
  },
  {
   "cell_type": "code",
   "execution_count": 38,
   "metadata": {
    "ExecuteTime": {
     "end_time": "2018-12-06T18:58:56.878341Z",
     "start_time": "2018-12-06T18:58:56.862341Z"
    }
   },
   "outputs": [],
   "source": [
    "def plot_cm(pred):\n",
    "    cm = confusion_matrix(test_target,pred, labels=['easy','med','hard'])\n",
    "    cm = cm.astype('float')/cm.sum(axis=1)[:, np.newaxis]\n",
    "\n",
    "    df_cm = pd.DataFrame(cm, index = ['easy', 'med', 'hard'],\n",
    "                      columns = ['easy', 'med', 'hard'])\n",
    "\n",
    "    plt.figure(figsize = (10,10))\n",
    "    sns.heatmap(df_cm, annot=True)\n",
    "    plt.ylabel('True label')\n",
    "    plt.xlabel('Predicted label')\n",
    "    plt.tight_layout()"
   ]
  },
  {
   "cell_type": "markdown",
   "metadata": {
    "ExecuteTime": {
     "end_time": "2018-12-06T08:30:46.893606Z",
     "start_time": "2018-12-06T08:30:46.860328Z"
    }
   },
   "source": [
    "## Run Logistic Regression with Optimal Parameters for full metrics"
   ]
  },
  {
   "cell_type": "code",
   "execution_count": 13,
   "metadata": {
    "ExecuteTime": {
     "end_time": "2018-12-06T08:34:47.514488Z",
     "start_time": "2018-12-06T08:33:21.489483Z"
    }
   },
   "outputs": [],
   "source": [
    "vectorizer = TfidfVectorizer(binary=True, ngram_range=(1,2), max_df=0.98) \n",
    "train_features = vectorizer.fit_transform(str_train_data)\n",
    "test_features = vectorizer.transform(str_test_data)"
   ]
  },
  {
   "cell_type": "code",
   "execution_count": 40,
   "metadata": {
    "ExecuteTime": {
     "end_time": "2018-12-06T19:03:12.368682Z",
     "start_time": "2018-12-06T19:01:07.684994Z"
    }
   },
   "outputs": [
    {
     "name": "stdout",
     "output_type": "stream",
     "text": [
      "Accuracy: 0.7404998288257446\n",
      "Precision: [0.64806202 0.75735822 0.69037294]\n",
      "Recall: [0.28867403 0.90093937 0.54520548]\n"
     ]
    },
    {
     "data": {
      "image/png": "[encoded data removed]",
      "text/plain": [
       "<Figure size 720x720 with 2 Axes>"
      ]
     },
     "metadata": {},
     "output_type": "display_data"
    }
   ],
   "source": [
    "lr = LogisticRegression(C=562341325, solver='lbfgs', multi_class='multinomial', tol=0.01)\n",
    "lr.fit(train_features, train_target)\n",
    "lr_pred = lr.predict(test_features)\n",
    "    \n",
    "print_metrics(lr_pred)\n",
    "plot_cm(lr_pred)"
   ]
  },
  {
   "cell_type": "code",
   "execution_count": 23,
   "metadata": {
    "ExecuteTime": {
     "end_time": "2018-12-06T08:50:30.143227Z",
     "start_time": "2018-12-06T08:50:16.882271Z"
    }
   },
   "outputs": [
    {
     "name": "stdout",
     "output_type": "stream",
     "text": [
      "Accuracy: 0.668150176880064\n",
      "Precision: [0.         0.66815018 0.        ]\n",
      "Recall: [0. 1. 0.]\n"
     ]
    },
    {
     "name": "stderr",
     "output_type": "stream",
     "text": [
      "C:\\Users\\dorse\\Miniconda3\\envs\\ml\\lib\\site-packages\\sklearn\\metrics\\classification.py:1135: UndefinedMetricWarning: Precision is ill-defined and being set to 0.0 in labels with no predicted samples.\n",
      "  'precision', 'predicted', average, warn_for)\n"
     ]
    },
    {
     "data": {
      "image/png": "[encoded data removed]",
      "text/plain": [
       "<Figure size 360x360 with 2 Axes>"
      ]
     },
     "metadata": {},
     "output_type": "display_data"
    }
   ],
   "source": [
    "sgd = SGDClassifier(loss='log', penalty='elasticnet', l1_ratio=0.2)\n",
    "sgd.fit(train_features, train_target)\n",
    "sgd_pred = sgd.predict(test_features)\n",
    "    \n",
    "print_metrics(sgd_pred)\n",
    "plot_cm(sgd_pred)"
   ]
  },
  {
   "cell_type": "code",
   "execution_count": 24,
   "metadata": {
    "ExecuteTime": {
     "end_time": "2018-12-06T08:50:43.974268Z",
     "start_time": "2018-12-06T08:50:30.145222Z"
    }
   },
   "outputs": [
    {
     "name": "stdout",
     "output_type": "stream",
     "text": [
      "Accuracy: 0.7149378066872075\n",
      "Precision: [0.71548117 0.70938786 0.80318091]\n",
      "Recall: [0.11809392 0.97181896 0.27671233]\n"
     ]
    },
    {
     "data": {
      "image/png": "[encoded data removed]",
      "text/plain": [
       "<Figure size 360x360 with 2 Axes>"
      ]
     },
     "metadata": {},
     "output_type": "display_data"
    }
   ],
   "source": [
    "svm = LinearSVC(fit_intercept=True, random_state=0)\n",
    "svm.fit(train_features, train_target)\n",
    "svm_pred = svm.predict(test_features)\n",
    "\n",
    "print_metrics(svm_pred)\n",
    "plot_cm(svm_pred)"
   ]
  },
  {
   "cell_type": "code",
   "execution_count": 28,
   "metadata": {
    "ExecuteTime": {
     "end_time": "2018-12-06T08:52:32.153554Z",
     "start_time": "2018-12-06T08:52:28.034448Z"
    }
   },
   "outputs": [
    {
     "name": "stdout",
     "output_type": "stream",
     "text": [
      "Accuracy: 0.722469473924455\n",
      "Precision: [0.62820513 0.72279287 0.77272727]\n",
      "Recall: [0.1691989  0.94944492 0.3609589 ]\n"
     ]
    },
    {
     "data": {
      "image/png": "[encoded data removed]",
      "text/plain": [
       "<Figure size 360x360 with 2 Axes>"
      ]
     },
     "metadata": {},
     "output_type": "display_data"
    }
   ],
   "source": [
    "pac = PassiveAggressiveClassifier(C=1.04)\n",
    "pac.fit(train_features, train_target)\n",
    "pac_pred = pac.predict(test_features)\n",
    "\n",
    "print_metrics(pac_pred)\n",
    "plot_cm(pac_pred)"
   ]
  },
  {
   "cell_type": "markdown",
   "metadata": {},
   "source": [
    "## Removing medium reviews, training and testing against only easy and medium reviews"
   ]
  },
  {
   "cell_type": "code",
   "execution_count": null,
   "metadata": {},
   "outputs": [],
   "source": [
    "easy_med_df = df_by_usr[df_by_usr.reviewer_label!='med']"
   ]
  },
  {
   "cell_type": "code",
   "execution_count": null,
   "metadata": {},
   "outputs": [],
   "source": [
    "train_data, test_data, train_target, test_target = train_test_split(df_by_usr['text_agg'],\n",
    "                                                                    df_by_usr['reviewer_label'])"
   ]
  },
  {
   "cell_type": "code",
   "execution_count": null,
   "metadata": {},
   "outputs": [],
   "source": []
  }
 ],
 "metadata": {
  "kernelspec": {
   "display_name": "Python 3",
   "language": "python",
   "name": "python3"
  },
  "language_info": {
   "codemirror_mode": {
    "name": "ipython",
    "version": 3
   },
   "file_extension": ".py",
   "mimetype": "text/x-python",
   "name": "python",
   "nbconvert_exporter": "python",
   "pygments_lexer": "ipython3",
   "version": "3.6.6"
  }
 },
 "nbformat": 4,
 "nbformat_minor": 2
}
