{
 "cells": [
  {
   "cell_type": "markdown",
   "metadata": {},
   "source": [
    "# Sentiment Anaylsis of Yelp Reviews"
   ]
  },
  {
   "cell_type": "code",
   "execution_count": 27,
   "metadata": {},
   "outputs": [],
   "source": [
    "import pandas as pd\n",
    "from vaderSentiment.vaderSentiment import SentimentIntensityAnalyzer\n",
    "import json\n",
    "import numpy as np\n",
    "import matplotlib.mlab as mlab\n",
    "import matplotlib.pyplot as plt"
   ]
  },
  {
   "cell_type": "code",
   "execution_count": 2,
   "metadata": {},
   "outputs": [],
   "source": [
    "# load data set\n",
    "with open('df_by_usr.json', 'r', encoding='UTF-8') as f:\n",
    "    data = f.readlines()\n",
    "    df_by_usr_data = list(map(json.loads, data))\n",
    "    \n",
    "df_by_usr = pd.DataFrame(df_by_usr_data)"
   ]
  },
  {
   "cell_type": "code",
   "execution_count": 3,
   "metadata": {},
   "outputs": [
    {
     "data": {
      "text/html": [
       "<div>\n",
       "<style scoped>\n",
       "    .dataframe tbody tr th:only-of-type {\n",
       "        vertical-align: middle;\n",
       "    }\n",
       "\n",
       "    .dataframe tbody tr th {\n",
       "        vertical-align: top;\n",
       "    }\n",
       "\n",
       "    .dataframe thead th {\n",
       "        text-align: right;\n",
       "    }\n",
       "</style>\n",
       "<table border=\"1\" class=\"dataframe\">\n",
       "  <thead>\n",
       "    <tr style=\"text-align: right;\">\n",
       "      <th></th>\n",
       "      <th>avg_star_delta</th>\n",
       "      <th>reviewer_label</th>\n",
       "      <th>text_agg</th>\n",
       "      <th>user_id</th>\n",
       "    </tr>\n",
       "  </thead>\n",
       "  <tbody>\n",
       "    <tr>\n",
       "      <th>0</th>\n",
       "      <td>-0.318182</td>\n",
       "      <td>med</td>\n",
       "      <td>Ummm, due to the star ratings on Yelp we made ...</td>\n",
       "      <td>--3WaS23LcIXtxyFULJHTA</td>\n",
       "    </tr>\n",
       "    <tr>\n",
       "      <th>1</th>\n",
       "      <td>-0.947368</td>\n",
       "      <td>hard</td>\n",
       "      <td>In my opinion, this restaurant has the best fo...</td>\n",
       "      <td>--4rAAfZnEIAKJE80aIiYg</td>\n",
       "    </tr>\n",
       "    <tr>\n",
       "      <th>2</th>\n",
       "      <td>0.333333</td>\n",
       "      <td>med</td>\n",
       "      <td>All is right with the world. After going to th...</td>\n",
       "      <td>--CIuK7sUpaNzalLAlHJKA</td>\n",
       "    </tr>\n",
       "    <tr>\n",
       "      <th>3</th>\n",
       "      <td>0.900000</td>\n",
       "      <td>easy</td>\n",
       "      <td>One of the best buffets I have been to for the...</td>\n",
       "      <td>--HCoE1ghaAlcaAfshICgw</td>\n",
       "    </tr>\n",
       "    <tr>\n",
       "      <th>4</th>\n",
       "      <td>-0.166667</td>\n",
       "      <td>med</td>\n",
       "      <td>Great pizza.  Pasta is just ok, but the qualit...</td>\n",
       "      <td>--NIc98RMssgy0mSZL3vpA</td>\n",
       "    </tr>\n",
       "  </tbody>\n",
       "</table>\n",
       "</div>"
      ],
      "text/plain": [
       "   avg_star_delta reviewer_label  \\\n",
       "0       -0.318182            med   \n",
       "1       -0.947368           hard   \n",
       "2        0.333333            med   \n",
       "3        0.900000           easy   \n",
       "4       -0.166667            med   \n",
       "\n",
       "                                            text_agg                 user_id  \n",
       "0  Ummm, due to the star ratings on Yelp we made ...  --3WaS23LcIXtxyFULJHTA  \n",
       "1  In my opinion, this restaurant has the best fo...  --4rAAfZnEIAKJE80aIiYg  \n",
       "2  All is right with the world. After going to th...  --CIuK7sUpaNzalLAlHJKA  \n",
       "3  One of the best buffets I have been to for the...  --HCoE1ghaAlcaAfshICgw  \n",
       "4  Great pizza.  Pasta is just ok, but the qualit...  --NIc98RMssgy0mSZL3vpA  "
      ]
     },
     "execution_count": 3,
     "metadata": {},
     "output_type": "execute_result"
    }
   ],
   "source": [
    "df_by_usr.head()"
   ]
  },
  {
   "cell_type": "code",
   "execution_count": null,
   "metadata": {},
   "outputs": [],
   "source": [
    "len(df_by_usr['text_agg'])"
   ]
  },
  {
   "cell_type": "code",
   "execution_count": 4,
   "metadata": {},
   "outputs": [
    {
     "data": {
      "text/plain": [
       "0.9996"
      ]
     },
     "execution_count": 4,
     "metadata": {},
     "output_type": "execute_result"
    }
   ],
   "source": [
    "analyzer = SentimentIntensityAnalyzer()\n",
    "scores = analyzer.polarity_scores(df_by_usr['text_agg'][0])\n",
    "score = scores['compound']\n",
    "score"
   ]
  },
  {
   "cell_type": "code",
   "execution_count": 5,
   "metadata": {},
   "outputs": [
    {
     "data": {
      "text/plain": [
       "'hard'"
      ]
     },
     "execution_count": 5,
     "metadata": {},
     "output_type": "execute_result"
    }
   ],
   "source": [
    "df_by_usr['reviewer_label'][1]"
   ]
  },
  {
   "cell_type": "code",
   "execution_count": 7,
   "metadata": {},
   "outputs": [],
   "source": [
    "df_hard = df_by_usr[df_by_usr.reviewer_label=='hard']"
   ]
  },
  {
   "cell_type": "code",
   "execution_count": 8,
   "metadata": {},
   "outputs": [
    {
     "data": {
      "text/plain": [
       "5738"
      ]
     },
     "execution_count": 8,
     "metadata": {},
     "output_type": "execute_result"
    }
   ],
   "source": [
    "len(df_hard)"
   ]
  },
  {
   "cell_type": "code",
   "execution_count": 9,
   "metadata": {},
   "outputs": [],
   "source": [
    "df_large_delta = df_by_usr[df_by_usr.avg_star_delta > 0.5]"
   ]
  },
  {
   "cell_type": "code",
   "execution_count": 10,
   "metadata": {},
   "outputs": [
    {
     "data": {
      "text/plain": [
       "5910"
      ]
     },
     "execution_count": 10,
     "metadata": {},
     "output_type": "execute_result"
    }
   ],
   "source": [
    "len(df_large_delta)"
   ]
  },
  {
   "cell_type": "code",
   "execution_count": 17,
   "metadata": {},
   "outputs": [],
   "source": [
    "analyzer = SentimentIntensityAnalyzer()\n",
    "text = df_large_delta['text_agg']\n",
    "\n",
    "sentiment = []\n",
    "for t in text:\n",
    "    scores = analyzer.polarity_scores(t)\n",
    "    score = scores['compound']\n",
    "    sentiment.append(score)\n",
    "\n",
    "#df_by_user['sentiment_scores'] = sentiment\n",
    "\n",
    "#scores = analyzer.polarity_scores(text)\n",
    "#score = scores['compound']"
   ]
  },
  {
   "cell_type": "code",
   "execution_count": 25,
   "metadata": {},
   "outputs": [
    {
     "name": "stderr",
     "output_type": "stream",
     "text": [
      "/Users/7of9/anaconda3/lib/python3.6/site-packages/ipykernel_launcher.py:1: SettingWithCopyWarning: \n",
      "A value is trying to be set on a copy of a slice from a DataFrame.\n",
      "Try using .loc[row_indexer,col_indexer] = value instead\n",
      "\n",
      "See the caveats in the documentation: http://pandas.pydata.org/pandas-docs/stable/indexing.html#indexing-view-versus-copy\n",
      "  \"\"\"Entry point for launching an IPython kernel.\n"
     ]
    }
   ],
   "source": [
    "df_large_delta['sentiment_score'] = sentiment"
   ]
  },
  {
   "cell_type": "code",
   "execution_count": 26,
   "metadata": {},
   "outputs": [
    {
     "data": {
      "text/html": [
       "<div>\n",
       "<style scoped>\n",
       "    .dataframe tbody tr th:only-of-type {\n",
       "        vertical-align: middle;\n",
       "    }\n",
       "\n",
       "    .dataframe tbody tr th {\n",
       "        vertical-align: top;\n",
       "    }\n",
       "\n",
       "    .dataframe thead th {\n",
       "        text-align: right;\n",
       "    }\n",
       "</style>\n",
       "<table border=\"1\" class=\"dataframe\">\n",
       "  <thead>\n",
       "    <tr style=\"text-align: right;\">\n",
       "      <th></th>\n",
       "      <th>avg_star_delta</th>\n",
       "      <th>reviewer_label</th>\n",
       "      <th>text_agg</th>\n",
       "      <th>user_id</th>\n",
       "      <th>sentiment_score</th>\n",
       "    </tr>\n",
       "  </thead>\n",
       "  <tbody>\n",
       "    <tr>\n",
       "      <th>3</th>\n",
       "      <td>0.900000</td>\n",
       "      <td>easy</td>\n",
       "      <td>One of the best buffets I have been to for the...</td>\n",
       "      <td>--HCoE1ghaAlcaAfshICgw</td>\n",
       "      <td>0.9996</td>\n",
       "    </tr>\n",
       "    <tr>\n",
       "      <th>11</th>\n",
       "      <td>1.033333</td>\n",
       "      <td>easy</td>\n",
       "      <td>First time customer.....daughter's bday choice...</td>\n",
       "      <td>-0dOdNR_GMZq0yHWYuwRaw</td>\n",
       "      <td>0.9999</td>\n",
       "    </tr>\n",
       "    <tr>\n",
       "      <th>12</th>\n",
       "      <td>0.678571</td>\n",
       "      <td>easy</td>\n",
       "      <td>This is my all time favorite burger place.  Ve...</td>\n",
       "      <td>-0g4b9oK3iptky6YY3vDyQ</td>\n",
       "      <td>0.9995</td>\n",
       "    </tr>\n",
       "    <tr>\n",
       "      <th>15</th>\n",
       "      <td>0.666667</td>\n",
       "      <td>easy</td>\n",
       "      <td>Oooh I bet this taco shop got plenty of action...</td>\n",
       "      <td>-1-pTXLHph2vcqRCNeT4_Q</td>\n",
       "      <td>0.9999</td>\n",
       "    </tr>\n",
       "    <tr>\n",
       "      <th>20</th>\n",
       "      <td>0.666667</td>\n",
       "      <td>easy</td>\n",
       "      <td>Great place for breakfast. Ask for your potato...</td>\n",
       "      <td>-1ZMRA0N01rqZL0TWk3fgA</td>\n",
       "      <td>0.9992</td>\n",
       "    </tr>\n",
       "  </tbody>\n",
       "</table>\n",
       "</div>"
      ],
      "text/plain": [
       "    avg_star_delta reviewer_label  \\\n",
       "3         0.900000           easy   \n",
       "11        1.033333           easy   \n",
       "12        0.678571           easy   \n",
       "15        0.666667           easy   \n",
       "20        0.666667           easy   \n",
       "\n",
       "                                             text_agg                 user_id  \\\n",
       "3   One of the best buffets I have been to for the...  --HCoE1ghaAlcaAfshICgw   \n",
       "11  First time customer.....daughter's bday choice...  -0dOdNR_GMZq0yHWYuwRaw   \n",
       "12  This is my all time favorite burger place.  Ve...  -0g4b9oK3iptky6YY3vDyQ   \n",
       "15  Oooh I bet this taco shop got plenty of action...  -1-pTXLHph2vcqRCNeT4_Q   \n",
       "20  Great place for breakfast. Ask for your potato...  -1ZMRA0N01rqZL0TWk3fgA   \n",
       "\n",
       "    sentiment_score  \n",
       "3            0.9996  \n",
       "11           0.9999  \n",
       "12           0.9995  \n",
       "15           0.9999  \n",
       "20           0.9992  "
      ]
     },
     "execution_count": 26,
     "metadata": {},
     "output_type": "execute_result"
    }
   ],
   "source": [
    "df_large_delta.head()"
   ]
  },
  {
   "cell_type": "code",
   "execution_count": 31,
   "metadata": {},
   "outputs": [
    {
     "data": {
      "text/plain": [
       "count    5910.000000\n",
       "mean        0.997779\n",
       "std         0.058103\n",
       "min        -0.999900\n",
       "25%         0.999500\n",
       "50%         0.999800\n",
       "75%         0.999900\n",
       "max         1.000000\n",
       "Name: sentiment_score, dtype: float64"
      ]
     },
     "execution_count": 31,
     "metadata": {},
     "output_type": "execute_result"
    }
   ],
   "source": [
    "df_large_delta['sentiment_score'].describe()"
   ]
  },
  {
   "cell_type": "code",
   "execution_count": 30,
   "metadata": {},
   "outputs": [
    {
     "data": {
      "text/plain": [
       "(array([5.000e+00, 0.000e+00, 0.000e+00, 0.000e+00, 0.000e+00, 0.000e+00,\n",
       "        0.000e+00, 0.000e+00, 0.000e+00, 0.000e+00, 0.000e+00, 0.000e+00,\n",
       "        0.000e+00, 0.000e+00, 0.000e+00, 0.000e+00, 0.000e+00, 0.000e+00,\n",
       "        0.000e+00, 0.000e+00, 0.000e+00, 0.000e+00, 0.000e+00, 0.000e+00,\n",
       "        0.000e+00, 0.000e+00, 0.000e+00, 0.000e+00, 0.000e+00, 0.000e+00,\n",
       "        0.000e+00, 0.000e+00, 0.000e+00, 0.000e+00, 0.000e+00, 0.000e+00,\n",
       "        0.000e+00, 0.000e+00, 0.000e+00, 0.000e+00, 0.000e+00, 0.000e+00,\n",
       "        0.000e+00, 0.000e+00, 0.000e+00, 0.000e+00, 1.000e+00, 1.000e+00,\n",
       "        0.000e+00, 5.903e+03]),\n",
       " array([-9.99900e-01, -9.59902e-01, -9.19904e-01, -8.79906e-01,\n",
       "        -8.39908e-01, -7.99910e-01, -7.59912e-01, -7.19914e-01,\n",
       "        -6.79916e-01, -6.39918e-01, -5.99920e-01, -5.59922e-01,\n",
       "        -5.19924e-01, -4.79926e-01, -4.39928e-01, -3.99930e-01,\n",
       "        -3.59932e-01, -3.19934e-01, -2.79936e-01, -2.39938e-01,\n",
       "        -1.99940e-01, -1.59942e-01, -1.19944e-01, -7.99460e-02,\n",
       "        -3.99480e-02,  5.00000e-05,  4.00480e-02,  8.00460e-02,\n",
       "         1.20044e-01,  1.60042e-01,  2.00040e-01,  2.40038e-01,\n",
       "         2.80036e-01,  3.20034e-01,  3.60032e-01,  4.00030e-01,\n",
       "         4.40028e-01,  4.80026e-01,  5.20024e-01,  5.60022e-01,\n",
       "         6.00020e-01,  6.40018e-01,  6.80016e-01,  7.20014e-01,\n",
       "         7.60012e-01,  8.00010e-01,  8.40008e-01,  8.80006e-01,\n",
       "         9.20004e-01,  9.60002e-01,  1.00000e+00]),\n",
       " <a list of 50 Patch objects>)"
      ]
     },
     "execution_count": 30,
     "metadata": {},
     "output_type": "execute_result"
    },
    {
     "data": {
      "image/png": "[encoded data removed]",
      "text/plain": [
       "<matplotlib.figure.Figure at 0x11d1da4e0>"
      ]
     },
     "metadata": {},
     "output_type": "display_data"
    }
   ],
   "source": [
    "plt.hist(df_large_delta['sentiment_score'], bins=50)"
   ]
  },
  {
   "cell_type": "code",
   "execution_count": 32,
   "metadata": {},
   "outputs": [
    {
     "data": {
      "text/plain": [
       "35051"
      ]
     },
     "execution_count": 32,
     "metadata": {},
     "output_type": "execute_result"
    }
   ],
   "source": [
    "len(df_by_usr)"
   ]
  },
  {
   "cell_type": "code",
   "execution_count": 37,
   "metadata": {},
   "outputs": [],
   "source": [
    "df_small_delta = df_by_usr[df_by_usr.avg_star_delta < 0.05]"
   ]
  },
  {
   "cell_type": "code",
   "execution_count": 38,
   "metadata": {},
   "outputs": [
    {
     "data": {
      "text/plain": [
       "17307"
      ]
     },
     "execution_count": 38,
     "metadata": {},
     "output_type": "execute_result"
    }
   ],
   "source": [
    "len(df_small_delta)"
   ]
  },
  {
   "cell_type": "code",
   "execution_count": 39,
   "metadata": {},
   "outputs": [],
   "source": [
    "df_hard = df_by_usr[df_by_usr.reviewer_label == 'hard']"
   ]
  },
  {
   "cell_type": "code",
   "execution_count": 41,
   "metadata": {},
   "outputs": [
    {
     "data": {
      "text/plain": [
       "5738"
      ]
     },
     "execution_count": 41,
     "metadata": {},
     "output_type": "execute_result"
    }
   ],
   "source": [
    "len(df_hard)"
   ]
  },
  {
   "cell_type": "code",
   "execution_count": 42,
   "metadata": {},
   "outputs": [],
   "source": [
    "# Small delta\n",
    "text = df_hard['text_agg']\n",
    "\n",
    "sentiment_hard = []\n",
    "for t in text:\n",
    "    scores = analyzer.polarity_scores(t)\n",
    "    score = scores['compound']\n",
    "    sentiment_hard.append(score)"
   ]
  },
  {
   "cell_type": "code",
   "execution_count": 43,
   "metadata": {},
   "outputs": [
    {
     "name": "stderr",
     "output_type": "stream",
     "text": [
      "/Users/7of9/anaconda3/lib/python3.6/site-packages/ipykernel_launcher.py:1: SettingWithCopyWarning: \n",
      "A value is trying to be set on a copy of a slice from a DataFrame.\n",
      "Try using .loc[row_indexer,col_indexer] = value instead\n",
      "\n",
      "See the caveats in the documentation: http://pandas.pydata.org/pandas-docs/stable/indexing.html#indexing-view-versus-copy\n",
      "  \"\"\"Entry point for launching an IPython kernel.\n"
     ]
    }
   ],
   "source": [
    "df_hard['sentiment_score'] = sentiment_hard"
   ]
  },
  {
   "cell_type": "code",
   "execution_count": 44,
   "metadata": {},
   "outputs": [
    {
     "data": {
      "text/html": [
       "<div>\n",
       "<style scoped>\n",
       "    .dataframe tbody tr th:only-of-type {\n",
       "        vertical-align: middle;\n",
       "    }\n",
       "\n",
       "    .dataframe tbody tr th {\n",
       "        vertical-align: top;\n",
       "    }\n",
       "\n",
       "    .dataframe thead th {\n",
       "        text-align: right;\n",
       "    }\n",
       "</style>\n",
       "<table border=\"1\" class=\"dataframe\">\n",
       "  <thead>\n",
       "    <tr style=\"text-align: right;\">\n",
       "      <th></th>\n",
       "      <th>avg_star_delta</th>\n",
       "      <th>reviewer_label</th>\n",
       "      <th>text_agg</th>\n",
       "      <th>user_id</th>\n",
       "      <th>sentiment_score</th>\n",
       "    </tr>\n",
       "  </thead>\n",
       "  <tbody>\n",
       "    <tr>\n",
       "      <th>1</th>\n",
       "      <td>-0.947368</td>\n",
       "      <td>hard</td>\n",
       "      <td>In my opinion, this restaurant has the best fo...</td>\n",
       "      <td>--4rAAfZnEIAKJE80aIiYg</td>\n",
       "      <td>0.9998</td>\n",
       "    </tr>\n",
       "    <tr>\n",
       "      <th>5</th>\n",
       "      <td>-0.666667</td>\n",
       "      <td>hard</td>\n",
       "      <td>At 1200+ reviews, there's basically nothing to...</td>\n",
       "      <td>--WLHsm-AC4jcol2gOkmCQ</td>\n",
       "      <td>0.9991</td>\n",
       "    </tr>\n",
       "    <tr>\n",
       "      <th>6</th>\n",
       "      <td>-0.656250</td>\n",
       "      <td>hard</td>\n",
       "      <td>Popular sandwich place, located on the Vegas s...</td>\n",
       "      <td>-00kdEIhCt-ODaV4BS-EAg</td>\n",
       "      <td>0.9993</td>\n",
       "    </tr>\n",
       "    <tr>\n",
       "      <th>10</th>\n",
       "      <td>-0.500000</td>\n",
       "      <td>hard</td>\n",
       "      <td>The food was pretty good. \\n\\nPrices a little ...</td>\n",
       "      <td>-0Xu57zrI3Rxi8wGZsnWKQ</td>\n",
       "      <td>0.9997</td>\n",
       "    </tr>\n",
       "    <tr>\n",
       "      <th>23</th>\n",
       "      <td>-0.527778</td>\n",
       "      <td>hard</td>\n",
       "      <td>Great Menu, Really cool place, and amazing ser...</td>\n",
       "      <td>-1ksPJf0Eppmxj9ZNCkMRw</td>\n",
       "      <td>0.9998</td>\n",
       "    </tr>\n",
       "  </tbody>\n",
       "</table>\n",
       "</div>"
      ],
      "text/plain": [
       "    avg_star_delta reviewer_label  \\\n",
       "1        -0.947368           hard   \n",
       "5        -0.666667           hard   \n",
       "6        -0.656250           hard   \n",
       "10       -0.500000           hard   \n",
       "23       -0.527778           hard   \n",
       "\n",
       "                                             text_agg                 user_id  \\\n",
       "1   In my opinion, this restaurant has the best fo...  --4rAAfZnEIAKJE80aIiYg   \n",
       "5   At 1200+ reviews, there's basically nothing to...  --WLHsm-AC4jcol2gOkmCQ   \n",
       "6   Popular sandwich place, located on the Vegas s...  -00kdEIhCt-ODaV4BS-EAg   \n",
       "10  The food was pretty good. \\n\\nPrices a little ...  -0Xu57zrI3Rxi8wGZsnWKQ   \n",
       "23  Great Menu, Really cool place, and amazing ser...  -1ksPJf0Eppmxj9ZNCkMRw   \n",
       "\n",
       "    sentiment_score  \n",
       "1            0.9998  \n",
       "5            0.9991  \n",
       "6            0.9993  \n",
       "10           0.9997  \n",
       "23           0.9998  "
      ]
     },
     "execution_count": 44,
     "metadata": {},
     "output_type": "execute_result"
    }
   ],
   "source": [
    "df_hard.head()"
   ]
  },
  {
   "cell_type": "code",
   "execution_count": 46,
   "metadata": {},
   "outputs": [
    {
     "data": {
      "text/plain": [
       "(array([1.730e+02, 3.900e+01, 1.700e+01, 9.000e+00, 4.000e+00, 1.100e+01,\n",
       "        5.000e+00, 3.000e+00, 4.000e+00, 5.000e+00, 3.000e+00, 5.000e+00,\n",
       "        2.000e+00, 3.000e+00, 1.000e+00, 0.000e+00, 0.000e+00, 0.000e+00,\n",
       "        1.000e+00, 0.000e+00, 0.000e+00, 1.000e+00, 1.000e+00, 0.000e+00,\n",
       "        0.000e+00, 0.000e+00, 0.000e+00, 0.000e+00, 0.000e+00, 0.000e+00,\n",
       "        0.000e+00, 0.000e+00, 4.000e+00, 0.000e+00, 1.000e+00, 2.000e+00,\n",
       "        5.000e+00, 6.000e+00, 3.000e+00, 2.000e+00, 4.000e+00, 4.000e+00,\n",
       "        7.000e+00, 8.000e+00, 9.000e+00, 4.000e+00, 1.500e+01, 2.600e+01,\n",
       "        6.300e+01, 5.288e+03]),\n",
       " array([-9.9950e-01, -9.5951e-01, -9.1952e-01, -8.7953e-01, -8.3954e-01,\n",
       "        -7.9955e-01, -7.5956e-01, -7.1957e-01, -6.7958e-01, -6.3959e-01,\n",
       "        -5.9960e-01, -5.5961e-01, -5.1962e-01, -4.7963e-01, -4.3964e-01,\n",
       "        -3.9965e-01, -3.5966e-01, -3.1967e-01, -2.7968e-01, -2.3969e-01,\n",
       "        -1.9970e-01, -1.5971e-01, -1.1972e-01, -7.9730e-02, -3.9740e-02,\n",
       "         2.5000e-04,  4.0240e-02,  8.0230e-02,  1.2022e-01,  1.6021e-01,\n",
       "         2.0020e-01,  2.4019e-01,  2.8018e-01,  3.2017e-01,  3.6016e-01,\n",
       "         4.0015e-01,  4.4014e-01,  4.8013e-01,  5.2012e-01,  5.6011e-01,\n",
       "         6.0010e-01,  6.4009e-01,  6.8008e-01,  7.2007e-01,  7.6006e-01,\n",
       "         8.0005e-01,  8.4004e-01,  8.8003e-01,  9.2002e-01,  9.6001e-01,\n",
       "         1.0000e+00]),\n",
       " <a list of 50 Patch objects>)"
      ]
     },
     "execution_count": 46,
     "metadata": {},
     "output_type": "execute_result"
    },
    {
     "data": {
      "image/png": "[encoded data removed]",
      "text/plain": [
       "<matplotlib.figure.Figure at 0x11d8e3ef0>"
      ]
     },
     "metadata": {},
     "output_type": "display_data"
    }
   ],
   "source": [
    "plt.hist(df_hard.sentiment_score, bins=50)"
   ]
  },
  {
   "cell_type": "code",
   "execution_count": null,
   "metadata": {},
   "outputs": [],
   "source": []
  }
 ],
 "metadata": {
  "kernelspec": {
   "display_name": "Python 3",
   "language": "python",
   "name": "python3"
  },
  "language_info": {
   "codemirror_mode": {
    "name": "ipython",
    "version": 3
   },
   "file_extension": ".py",
   "mimetype": "text/x-python",
   "name": "python",
   "nbconvert_exporter": "python",
   "pygments_lexer": "ipython3",
   "version": "3.6.6"
  }
 },
 "nbformat": 4,
 "nbformat_minor": 2
}
